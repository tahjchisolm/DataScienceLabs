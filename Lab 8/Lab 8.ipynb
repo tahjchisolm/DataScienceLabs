{
 "cells": [
  {
   "cell_type": "markdown",
   "metadata": {},
   "source": [
    "# What is Data Munging?\n",
    "Data wrangling, sometimes referred to as data munging, is the process of transforming and mapping data from one \"raw\" data form into another format with the intent of making it more appropriate and valuable for a variety of downstream purposes such as analytics.\n",
    "\n",
    "# Why Do We Need to Know How to Data Wrangle or Data Munge?\n",
    "“Even when they can get their hands on the right data, data scientists need to time to explore and understand it. The data may be in a format that can’t be easily analyzed, and with little to no metadata to help, the data scientist may need to seek advice from the data owner. After all this, the data still needs to be prepared for analysis. This involves formatting, cleaning and sampling the data. In some cases, scaling, decomposition and aggregation transformations are required before data scientists are ready to start training the models.”\n",
    "\n",
    "https://www.infoworld.com/article/3228245/the-80-20-data-science-dilemma.html\n",
    "\n",
    "# 80/20 Rule in Data Science\n",
    "“The reason data scientists are hired in the first place is to develop algorithms and build machine learning models—and these are typically the parts of the job that they enjoy most. Yet in most companies today, 80 percent of a data scientist’s valuable time is spent simply finding, cleaning and reorganizing huge amounts of data.” Only 20 percent of their time is spent on actual data analysis. Without the right tools, this task is insurmountable.\"\n",
    "https://www.infoworld.com/article/3228245/the-80-20-data-science-dilemma.html\n",
    "\n",
    "- Data Munging Part I: Working With Missing Values\n",
    "- Data Munging Part II: Put two datasets together to create one dataset\n",
    "\n",
    "\n",
    "# Lab 8 Data Munging: Part I\n",
    "\n",
    "In this lab we will learn how to do two things:\n",
    "\n",
    "1. Work with dataset that is missing values\n",
    "2. Use regex to remove html tags from your data\n",
    "\n",
    "For this lab, we'll need these libraries:\n",
    "\n",
    "1. Pandas: We will need Pandas to navigate our dataframe and check for each column’s data type, null values, and unique values.\n",
    "2. NumPy: This package is essential for any data science project. It has a lot of mathematical functions that operate on multi-dimensional arrays and data frames.\n",
    "3. Matplotlib & Seaborn: They are plotting and graphing libraries that we will use to visualize data in an intuitive way.\n",
    "\n",
    "Note: regex are tricky. Practice regex more using other tutorials like those at datacamp and tutorialspoint\n"
   ]
  },
  {
   "cell_type": "code",
   "execution_count": 1,
   "metadata": {},
   "outputs": [],
   "source": [
    "import pandas            as pd\n",
    "import numpy             as np\n",
    "import matplotlib.pyplot as plt\n",
    "import seaborn           as sns"
   ]
  },
  {
   "cell_type": "markdown",
   "metadata": {},
   "source": [
    "# Loading the Data\n",
    "Let’s load our data\n",
    "\n",
    "# Question 1. Write the code to load in the jeopardy.csv into your Notebook\n",
    "# Question 1a. Write the shape function to view the total rows and columns in your data\n",
    "Note: You should upload your jeopardy.csv into its own folder caleld data OR\n",
    "upload it into it's current folder"
   ]
  },
  {
   "cell_type": "code",
   "execution_count": 2,
   "metadata": {},
   "outputs": [
    {
     "name": "stdout",
     "output_type": "stream",
     "text": [
      "The table has 19999 rows and  7 columns.\n"
     ]
    }
   ],
   "source": [
    "jeopardy = pd.read_csv(\"jeopardy_df.csv\")\n",
    "\n",
    "def shape(table):\n",
    "    print(\"The table has\",len(table),\"rows and \",len(table.columns),\"columns.\")\n",
    "    return\n",
    "\n",
    "shape(jeopardy)"
   ]
  },
  {
   "cell_type": "markdown",
   "metadata": {},
   "source": [
    "# Question 1b. Why might it be better toinclude all your data files under there own directory? Write the answer below.\n",
    "\n",
    "For organizational purposes.\n",
    "# Question 2. Write the code that prints a summary of the dataframe"
   ]
  },
  {
   "cell_type": "code",
   "execution_count": 3,
   "metadata": {},
   "outputs": [
    {
     "name": "stdout",
     "output_type": "stream",
     "text": [
      "<class 'pandas.core.frame.DataFrame'>\n",
      "RangeIndex: 19999 entries, 0 to 19998\n",
      "Data columns (total 7 columns):\n",
      " #   Column       Non-Null Count  Dtype \n",
      "---  ------       --------------  ----- \n",
      " 0   Show Number  19999 non-null  int64 \n",
      " 1    Air Date    19999 non-null  object\n",
      " 2    Round       19998 non-null  object\n",
      " 3    Category    19999 non-null  object\n",
      " 4    Value       19998 non-null  object\n",
      " 5    Question    19997 non-null  object\n",
      " 6    Answer      19997 non-null  object\n",
      "dtypes: int64(1), object(6)\n",
      "memory usage: 1.1+ MB\n",
      "None\n"
     ]
    }
   ],
   "source": [
    "print(jeopardy.info())"
   ]
  },
  {
   "cell_type": "markdown",
   "metadata": {},
   "source": [
    "# Question 3. Write the code that prints the first 25 rows of the dataframe"
   ]
  },
  {
   "cell_type": "code",
   "execution_count": 4,
   "metadata": {},
   "outputs": [
    {
     "data": {
      "text/html": [
       "<div>\n",
       "<style scoped>\n",
       "    .dataframe tbody tr th:only-of-type {\n",
       "        vertical-align: middle;\n",
       "    }\n",
       "\n",
       "    .dataframe tbody tr th {\n",
       "        vertical-align: top;\n",
       "    }\n",
       "\n",
       "    .dataframe thead th {\n",
       "        text-align: right;\n",
       "    }\n",
       "</style>\n",
       "<table border=\"1\" class=\"dataframe\">\n",
       "  <thead>\n",
       "    <tr style=\"text-align: right;\">\n",
       "      <th></th>\n",
       "      <th>Show Number</th>\n",
       "      <th>Air Date</th>\n",
       "      <th>Round</th>\n",
       "      <th>Category</th>\n",
       "      <th>Value</th>\n",
       "      <th>Question</th>\n",
       "      <th>Answer</th>\n",
       "    </tr>\n",
       "  </thead>\n",
       "  <tbody>\n",
       "    <tr>\n",
       "      <th>0</th>\n",
       "      <td>4680</td>\n",
       "      <td>12/31/04</td>\n",
       "      <td>Jeopardy!</td>\n",
       "      <td>HISTORY</td>\n",
       "      <td>$200</td>\n",
       "      <td>For the last 8 years of his life, Galileo was ...</td>\n",
       "      <td>Copernicus</td>\n",
       "    </tr>\n",
       "    <tr>\n",
       "      <th>1</th>\n",
       "      <td>4680</td>\n",
       "      <td>12/31/04</td>\n",
       "      <td>Jeopardy!</td>\n",
       "      <td>ESPN's TOP 10 ALL-TIME ATHLETES</td>\n",
       "      <td>$200</td>\n",
       "      <td>No. 2: 1912 Olympian; football star at Carlisl...</td>\n",
       "      <td>Jim Thorpe</td>\n",
       "    </tr>\n",
       "    <tr>\n",
       "      <th>2</th>\n",
       "      <td>4680</td>\n",
       "      <td>12/31/04</td>\n",
       "      <td>Jeopardy!</td>\n",
       "      <td>EVERYBODY TALKS ABOUT IT...</td>\n",
       "      <td>$200</td>\n",
       "      <td>The city of Yuma in this state has a record av...</td>\n",
       "      <td>Arizona</td>\n",
       "    </tr>\n",
       "    <tr>\n",
       "      <th>3</th>\n",
       "      <td>4680</td>\n",
       "      <td>12/31/04</td>\n",
       "      <td>Jeopardy!</td>\n",
       "      <td>THE COMPANY LINE</td>\n",
       "      <td>$200</td>\n",
       "      <td>In 1963, live on \"The Art Linkletter Show\", th...</td>\n",
       "      <td>McDonald's</td>\n",
       "    </tr>\n",
       "    <tr>\n",
       "      <th>4</th>\n",
       "      <td>4680</td>\n",
       "      <td>12/31/04</td>\n",
       "      <td>Jeopardy!</td>\n",
       "      <td>EPITAPHS &amp; TRIBUTES</td>\n",
       "      <td>$200</td>\n",
       "      <td>Signer of the Dec. of Indep., framer of the Co...</td>\n",
       "      <td>John Adams</td>\n",
       "    </tr>\n",
       "    <tr>\n",
       "      <th>5</th>\n",
       "      <td>4680</td>\n",
       "      <td>12/31/04</td>\n",
       "      <td>Jeopardy!</td>\n",
       "      <td>3-LETTER WORDS</td>\n",
       "      <td>$200</td>\n",
       "      <td>In the title of an Aesop fable, this insect sh...</td>\n",
       "      <td>the ant</td>\n",
       "    </tr>\n",
       "    <tr>\n",
       "      <th>6</th>\n",
       "      <td>4680</td>\n",
       "      <td>12/31/04</td>\n",
       "      <td>Jeopardy!</td>\n",
       "      <td>HISTORY</td>\n",
       "      <td>$400</td>\n",
       "      <td>Built in 312 B.C. to link Rome &amp; the South of ...</td>\n",
       "      <td>the Appian Way</td>\n",
       "    </tr>\n",
       "    <tr>\n",
       "      <th>7</th>\n",
       "      <td>4680</td>\n",
       "      <td>12/31/04</td>\n",
       "      <td>Jeopardy!</td>\n",
       "      <td>ESPN's TOP 10 ALL-TIME ATHLETES</td>\n",
       "      <td>$400</td>\n",
       "      <td>No. 8: 30 steals for the Birmingham Barons; 2,...</td>\n",
       "      <td>Michael Jordan</td>\n",
       "    </tr>\n",
       "    <tr>\n",
       "      <th>8</th>\n",
       "      <td>4680</td>\n",
       "      <td>12/31/04</td>\n",
       "      <td>Jeopardy!</td>\n",
       "      <td>EVERYBODY TALKS ABOUT IT...</td>\n",
       "      <td>$400</td>\n",
       "      <td>In the winter of 1971-72, a record 1,122 inche...</td>\n",
       "      <td>Washington</td>\n",
       "    </tr>\n",
       "    <tr>\n",
       "      <th>9</th>\n",
       "      <td>4680</td>\n",
       "      <td>12/31/04</td>\n",
       "      <td>Jeopardy!</td>\n",
       "      <td>THE COMPANY LINE</td>\n",
       "      <td>$400</td>\n",
       "      <td>This housewares store was named for the packag...</td>\n",
       "      <td>Crate &amp; Barrel</td>\n",
       "    </tr>\n",
       "    <tr>\n",
       "      <th>10</th>\n",
       "      <td>4680</td>\n",
       "      <td>12/31/04</td>\n",
       "      <td>Jeopardy!</td>\n",
       "      <td>EPITAPHS &amp; TRIBUTES</td>\n",
       "      <td>$400</td>\n",
       "      <td>\"And away we go\"</td>\n",
       "      <td>Jackie Gleason</td>\n",
       "    </tr>\n",
       "    <tr>\n",
       "      <th>11</th>\n",
       "      <td>4680</td>\n",
       "      <td>12/31/04</td>\n",
       "      <td>Jeopardy!</td>\n",
       "      <td>3-LETTER WORDS</td>\n",
       "      <td>$400</td>\n",
       "      <td>Cows regurgitate this from the first stomach t...</td>\n",
       "      <td>the cud</td>\n",
       "    </tr>\n",
       "    <tr>\n",
       "      <th>12</th>\n",
       "      <td>4680</td>\n",
       "      <td>12/31/04</td>\n",
       "      <td>Jeopardy!</td>\n",
       "      <td>HISTORY</td>\n",
       "      <td>$600</td>\n",
       "      <td>In 1000 Rajaraja I of the Cholas battled to ta...</td>\n",
       "      <td>Ceylon (or Sri Lanka)</td>\n",
       "    </tr>\n",
       "    <tr>\n",
       "      <th>13</th>\n",
       "      <td>4680</td>\n",
       "      <td>12/31/04</td>\n",
       "      <td>Jeopardy!</td>\n",
       "      <td>ESPN's TOP 10 ALL-TIME ATHLETES</td>\n",
       "      <td>$600</td>\n",
       "      <td>No. 1: Lettered in hoops, football &amp; lacrosse ...</td>\n",
       "      <td>Jim Brown</td>\n",
       "    </tr>\n",
       "    <tr>\n",
       "      <th>14</th>\n",
       "      <td>4680</td>\n",
       "      <td>12/31/04</td>\n",
       "      <td>Jeopardy!</td>\n",
       "      <td>EVERYBODY TALKS ABOUT IT...</td>\n",
       "      <td>$600</td>\n",
       "      <td>On June 28, 1994 the nat'l weather service beg...</td>\n",
       "      <td>the UV index</td>\n",
       "    </tr>\n",
       "    <tr>\n",
       "      <th>15</th>\n",
       "      <td>4680</td>\n",
       "      <td>12/31/04</td>\n",
       "      <td>Jeopardy!</td>\n",
       "      <td>THE COMPANY LINE</td>\n",
       "      <td>$600</td>\n",
       "      <td>This company's Accutron watch, introduced in 1...</td>\n",
       "      <td>Bulova</td>\n",
       "    </tr>\n",
       "    <tr>\n",
       "      <th>16</th>\n",
       "      <td>4680</td>\n",
       "      <td>12/31/04</td>\n",
       "      <td>Jeopardy!</td>\n",
       "      <td>EPITAPHS &amp; TRIBUTES</td>\n",
       "      <td>$600</td>\n",
       "      <td>Outlaw: \"Murdered by a traitor and a coward wh...</td>\n",
       "      <td>Jesse James</td>\n",
       "    </tr>\n",
       "    <tr>\n",
       "      <th>17</th>\n",
       "      <td>4680</td>\n",
       "      <td>12/31/04</td>\n",
       "      <td>Jeopardy!</td>\n",
       "      <td>3-LETTER WORDS</td>\n",
       "      <td>$600</td>\n",
       "      <td>A small demon, or a mischievous child (who mig...</td>\n",
       "      <td>imp</td>\n",
       "    </tr>\n",
       "    <tr>\n",
       "      <th>18</th>\n",
       "      <td>4680</td>\n",
       "      <td>12/31/04</td>\n",
       "      <td>Jeopardy!</td>\n",
       "      <td>HISTORY</td>\n",
       "      <td>$800</td>\n",
       "      <td>Karl led the first of these Marxist organizati...</td>\n",
       "      <td>the International</td>\n",
       "    </tr>\n",
       "    <tr>\n",
       "      <th>19</th>\n",
       "      <td>4680</td>\n",
       "      <td>12/31/04</td>\n",
       "      <td>Jeopardy!</td>\n",
       "      <td>ESPN's TOP 10 ALL-TIME ATHLETES</td>\n",
       "      <td>$800</td>\n",
       "      <td>No. 10: FB/LB for Columbia U. in the 1920s; MV...</td>\n",
       "      <td>(Lou) Gehrig</td>\n",
       "    </tr>\n",
       "    <tr>\n",
       "      <th>20</th>\n",
       "      <td>4680</td>\n",
       "      <td>12/31/04</td>\n",
       "      <td>Jeopardy!</td>\n",
       "      <td>EVERYBODY TALKS ABOUT IT...</td>\n",
       "      <td>$800</td>\n",
       "      <td>Africa's lowest temperature was 11 degrees bel...</td>\n",
       "      <td>Morocco</td>\n",
       "    </tr>\n",
       "    <tr>\n",
       "      <th>21</th>\n",
       "      <td>4680</td>\n",
       "      <td>12/31/04</td>\n",
       "      <td>Jeopardy!</td>\n",
       "      <td>THE COMPANY LINE</td>\n",
       "      <td>$800</td>\n",
       "      <td>Edward Teller &amp; this man partnered in 1898 to ...</td>\n",
       "      <td>(Paul) Bonwit</td>\n",
       "    </tr>\n",
       "    <tr>\n",
       "      <th>22</th>\n",
       "      <td>4680</td>\n",
       "      <td>12/31/04</td>\n",
       "      <td>Jeopardy!</td>\n",
       "      <td>EPITAPHS &amp; TRIBUTES</td>\n",
       "      <td>$2,000</td>\n",
       "      <td>1939 Oscar winner: \"...you are a credit to you...</td>\n",
       "      <td>Hattie McDaniel (for her role in Gone with the...</td>\n",
       "    </tr>\n",
       "    <tr>\n",
       "      <th>23</th>\n",
       "      <td>4680</td>\n",
       "      <td>12/31/04</td>\n",
       "      <td>Jeopardy!</td>\n",
       "      <td>3-LETTER WORDS</td>\n",
       "      <td>$800</td>\n",
       "      <td>In geologic time one of these, shorter than an...</td>\n",
       "      <td>era</td>\n",
       "    </tr>\n",
       "    <tr>\n",
       "      <th>24</th>\n",
       "      <td>4680</td>\n",
       "      <td>12/31/04</td>\n",
       "      <td>Jeopardy!</td>\n",
       "      <td>HISTORY</td>\n",
       "      <td>$1,000</td>\n",
       "      <td>This Asian political party was founded in 1885...</td>\n",
       "      <td>the Congress Party</td>\n",
       "    </tr>\n",
       "  </tbody>\n",
       "</table>\n",
       "</div>"
      ],
      "text/plain": [
       "    Show Number  Air Date      Round                         Category  \\\n",
       "0          4680  12/31/04  Jeopardy!                          HISTORY   \n",
       "1          4680  12/31/04  Jeopardy!  ESPN's TOP 10 ALL-TIME ATHLETES   \n",
       "2          4680  12/31/04  Jeopardy!      EVERYBODY TALKS ABOUT IT...   \n",
       "3          4680  12/31/04  Jeopardy!                 THE COMPANY LINE   \n",
       "4          4680  12/31/04  Jeopardy!              EPITAPHS & TRIBUTES   \n",
       "5          4680  12/31/04  Jeopardy!                   3-LETTER WORDS   \n",
       "6          4680  12/31/04  Jeopardy!                          HISTORY   \n",
       "7          4680  12/31/04  Jeopardy!  ESPN's TOP 10 ALL-TIME ATHLETES   \n",
       "8          4680  12/31/04  Jeopardy!      EVERYBODY TALKS ABOUT IT...   \n",
       "9          4680  12/31/04  Jeopardy!                 THE COMPANY LINE   \n",
       "10         4680  12/31/04  Jeopardy!              EPITAPHS & TRIBUTES   \n",
       "11         4680  12/31/04  Jeopardy!                   3-LETTER WORDS   \n",
       "12         4680  12/31/04  Jeopardy!                          HISTORY   \n",
       "13         4680  12/31/04  Jeopardy!  ESPN's TOP 10 ALL-TIME ATHLETES   \n",
       "14         4680  12/31/04  Jeopardy!      EVERYBODY TALKS ABOUT IT...   \n",
       "15         4680  12/31/04  Jeopardy!                 THE COMPANY LINE   \n",
       "16         4680  12/31/04  Jeopardy!              EPITAPHS & TRIBUTES   \n",
       "17         4680  12/31/04  Jeopardy!                   3-LETTER WORDS   \n",
       "18         4680  12/31/04  Jeopardy!                          HISTORY   \n",
       "19         4680  12/31/04  Jeopardy!  ESPN's TOP 10 ALL-TIME ATHLETES   \n",
       "20         4680  12/31/04  Jeopardy!      EVERYBODY TALKS ABOUT IT...   \n",
       "21         4680  12/31/04  Jeopardy!                 THE COMPANY LINE   \n",
       "22         4680  12/31/04  Jeopardy!              EPITAPHS & TRIBUTES   \n",
       "23         4680  12/31/04  Jeopardy!                   3-LETTER WORDS   \n",
       "24         4680  12/31/04  Jeopardy!                          HISTORY   \n",
       "\n",
       "      Value                                           Question  \\\n",
       "0     $200   For the last 8 years of his life, Galileo was ...   \n",
       "1     $200   No. 2: 1912 Olympian; football star at Carlisl...   \n",
       "2     $200   The city of Yuma in this state has a record av...   \n",
       "3     $200   In 1963, live on \"The Art Linkletter Show\", th...   \n",
       "4     $200   Signer of the Dec. of Indep., framer of the Co...   \n",
       "5     $200   In the title of an Aesop fable, this insect sh...   \n",
       "6     $400   Built in 312 B.C. to link Rome & the South of ...   \n",
       "7     $400   No. 8: 30 steals for the Birmingham Barons; 2,...   \n",
       "8     $400   In the winter of 1971-72, a record 1,122 inche...   \n",
       "9     $400   This housewares store was named for the packag...   \n",
       "10    $400                                    \"And away we go\"   \n",
       "11    $400   Cows regurgitate this from the first stomach t...   \n",
       "12    $600   In 1000 Rajaraja I of the Cholas battled to ta...   \n",
       "13    $600   No. 1: Lettered in hoops, football & lacrosse ...   \n",
       "14    $600   On June 28, 1994 the nat'l weather service beg...   \n",
       "15    $600   This company's Accutron watch, introduced in 1...   \n",
       "16    $600   Outlaw: \"Murdered by a traitor and a coward wh...   \n",
       "17    $600   A small demon, or a mischievous child (who mig...   \n",
       "18    $800   Karl led the first of these Marxist organizati...   \n",
       "19    $800   No. 10: FB/LB for Columbia U. in the 1920s; MV...   \n",
       "20    $800   Africa's lowest temperature was 11 degrees bel...   \n",
       "21    $800   Edward Teller & this man partnered in 1898 to ...   \n",
       "22  $2,000   1939 Oscar winner: \"...you are a credit to you...   \n",
       "23    $800   In geologic time one of these, shorter than an...   \n",
       "24  $1,000   This Asian political party was founded in 1885...   \n",
       "\n",
       "                                               Answer  \n",
       "0                                          Copernicus  \n",
       "1                                          Jim Thorpe  \n",
       "2                                             Arizona  \n",
       "3                                          McDonald's  \n",
       "4                                          John Adams  \n",
       "5                                             the ant  \n",
       "6                                      the Appian Way  \n",
       "7                                      Michael Jordan  \n",
       "8                                          Washington  \n",
       "9                                      Crate & Barrel  \n",
       "10                                     Jackie Gleason  \n",
       "11                                            the cud  \n",
       "12                              Ceylon (or Sri Lanka)  \n",
       "13                                          Jim Brown  \n",
       "14                                       the UV index  \n",
       "15                                             Bulova  \n",
       "16                                        Jesse James  \n",
       "17                                                imp  \n",
       "18                                  the International  \n",
       "19                                       (Lou) Gehrig  \n",
       "20                                            Morocco  \n",
       "21                                      (Paul) Bonwit  \n",
       "22  Hattie McDaniel (for her role in Gone with the...  \n",
       "23                                                era  \n",
       "24                                 the Congress Party  "
      ]
     },
     "execution_count": 4,
     "metadata": {},
     "output_type": "execute_result"
    }
   ],
   "source": [
    "jeopardy.head(25)"
   ]
  },
  {
   "cell_type": "markdown",
   "metadata": {},
   "source": [
    "Now that we've seen a summary of the dataset, it may be necessary to view an entire column of data\n",
    "To print the entire Category column, I would normally write:\n",
    "print(jeopardy['Category'))\n",
    "\n",
    "What if I wanted to print the Category value for Row number 205?\n",
    "\n",
    "\n",
    "# Question 4. Write the code to print the Category, Question, and Answer values for Row Number 205"
   ]
  },
  {
   "cell_type": "code",
   "execution_count": 5,
   "metadata": {},
   "outputs": [
    {
     "name": "stdout",
     "output_type": "stream",
     "text": [
      "Show Number                                                 3673\n",
      " Air Date                                                7/19/00\n",
      " Round                                                 Jeopardy!\n",
      " Category                                       THE EYES HAVE IT\n",
      " Value                                                     $500 \n",
      " Question      People say these are what you need to make it ...\n",
      " Answer                                                 Contacts\n",
      "Name: 204, dtype: object\n"
     ]
    }
   ],
   "source": [
    "print(jeopardy.loc[204])"
   ]
  },
  {
   "cell_type": "markdown",
   "metadata": {},
   "source": [
    "You should have received an error. What possibly could have went wrong?\n",
    " \n",
    "# Question 5. Post the error below (if any)\n",
    "I don't have one.\n",
    "\n",
    "\n",
    "# Question 6. What's the problem with all of the category names in our dataset?\n",
    "The category name appeard as \"THE EYES HAVE IT\" above."
   ]
  },
  {
   "cell_type": "markdown",
   "metadata": {},
   "source": [
    "# Let's begin our Exploratory Data Analysis\n",
    "\n",
    "Exploratory data analysis may involve removing extra spaces or cleaning up your data.\n",
    "It may also involve visualizing the data. \n",
    "In order to do that though, you may need to remove missing values, whitespace, or other errors that may occur in the dataset.\n",
    "\n",
    "# Removing Leading Whitespace\n",
    "\n",
    "Sometimes you will receive a dataset that has trailing or ending whitespace that occurs with the column names. This commonly occurs if data is scraped from the web.  \n",
    "This will cause errors to occur when trying to extract data from columns.\n",
    "There are two ways you can do this:\n",
    "\n",
    "1. Rename the column names to what you want them to be or\n",
    "2. Remove the whitespace in the front\n",
    "\n",
    "In some cases you may spend too much time trying to figure out what is going on with your column names. May be just easier to rename them. \n",
    "\n",
    "We're going to do both in this Lab\n",
    "\n",
    "When removing whitespace we can use the str.replace function\n",
    "jeopardy.columns=jeopardy.columns.str.replace(' ', '')\n",
    "\n",
    "# Question 7. Write the code to remove the whitespace that occurs in the jeopardy dataframe for all columns"
   ]
  },
  {
   "cell_type": "code",
   "execution_count": 6,
   "metadata": {},
   "outputs": [],
   "source": [
    "jeopardy.columns=jeopardy.columns.str.replace(' ', '')"
   ]
  },
  {
   "cell_type": "markdown",
   "metadata": {},
   "source": [
    "#  Question 8. Write the code to print the 205th row in the jeopardy dataframe for the Category, Question, and Answer columns"
   ]
  },
  {
   "cell_type": "code",
   "execution_count": 7,
   "metadata": {},
   "outputs": [
    {
     "name": "stdout",
     "output_type": "stream",
     "text": [
      "ShowNumber                                                 3673\n",
      "AirDate                                                 7/19/00\n",
      "Round                                                 Jeopardy!\n",
      "Category                                       THE EYES HAVE IT\n",
      "Value                                                     $500 \n",
      "Question      People say these are what you need to make it ...\n",
      "Answer                                                 Contacts\n",
      "Name: 204, dtype: object\n"
     ]
    }
   ],
   "source": [
    "print(jeopardy.loc[204])"
   ]
  },
  {
   "cell_type": "markdown",
   "metadata": {},
   "source": [
    "Sometimes you will need to rename columns names so that they are more meaningful to your analysis.\n",
    "To rename a column we can use the rename function\n",
    "\n",
    "df.rename(columns={'Column To Be Renames': 'New Name Of Column'},\n",
    "          inplace=True)"
   ]
  },
  {
   "cell_type": "markdown",
   "metadata": {},
   "source": [
    "# Question 9. Write the code to rename the Category column to Genre. "
   ]
  },
  {
   "cell_type": "code",
   "execution_count": 8,
   "metadata": {},
   "outputs": [],
   "source": [
    "jeopardy.rename(columns={'Category': 'Genre'}, inplace=True)"
   ]
  },
  {
   "cell_type": "markdown",
   "metadata": {},
   "source": [
    "# Question 10. Write the code to view the first column names and first ten rows of the data"
   ]
  },
  {
   "cell_type": "code",
   "execution_count": 9,
   "metadata": {},
   "outputs": [
    {
     "data": {
      "text/html": [
       "<div>\n",
       "<style scoped>\n",
       "    .dataframe tbody tr th:only-of-type {\n",
       "        vertical-align: middle;\n",
       "    }\n",
       "\n",
       "    .dataframe tbody tr th {\n",
       "        vertical-align: top;\n",
       "    }\n",
       "\n",
       "    .dataframe thead th {\n",
       "        text-align: right;\n",
       "    }\n",
       "</style>\n",
       "<table border=\"1\" class=\"dataframe\">\n",
       "  <thead>\n",
       "    <tr style=\"text-align: right;\">\n",
       "      <th></th>\n",
       "      <th>ShowNumber</th>\n",
       "      <th>AirDate</th>\n",
       "      <th>Round</th>\n",
       "      <th>Genre</th>\n",
       "      <th>Value</th>\n",
       "      <th>Question</th>\n",
       "      <th>Answer</th>\n",
       "    </tr>\n",
       "  </thead>\n",
       "  <tbody>\n",
       "    <tr>\n",
       "      <th>0</th>\n",
       "      <td>4680</td>\n",
       "      <td>12/31/04</td>\n",
       "      <td>Jeopardy!</td>\n",
       "      <td>HISTORY</td>\n",
       "      <td>$200</td>\n",
       "      <td>For the last 8 years of his life, Galileo was ...</td>\n",
       "      <td>Copernicus</td>\n",
       "    </tr>\n",
       "    <tr>\n",
       "      <th>1</th>\n",
       "      <td>4680</td>\n",
       "      <td>12/31/04</td>\n",
       "      <td>Jeopardy!</td>\n",
       "      <td>ESPN's TOP 10 ALL-TIME ATHLETES</td>\n",
       "      <td>$200</td>\n",
       "      <td>No. 2: 1912 Olympian; football star at Carlisl...</td>\n",
       "      <td>Jim Thorpe</td>\n",
       "    </tr>\n",
       "    <tr>\n",
       "      <th>2</th>\n",
       "      <td>4680</td>\n",
       "      <td>12/31/04</td>\n",
       "      <td>Jeopardy!</td>\n",
       "      <td>EVERYBODY TALKS ABOUT IT...</td>\n",
       "      <td>$200</td>\n",
       "      <td>The city of Yuma in this state has a record av...</td>\n",
       "      <td>Arizona</td>\n",
       "    </tr>\n",
       "    <tr>\n",
       "      <th>3</th>\n",
       "      <td>4680</td>\n",
       "      <td>12/31/04</td>\n",
       "      <td>Jeopardy!</td>\n",
       "      <td>THE COMPANY LINE</td>\n",
       "      <td>$200</td>\n",
       "      <td>In 1963, live on \"The Art Linkletter Show\", th...</td>\n",
       "      <td>McDonald's</td>\n",
       "    </tr>\n",
       "    <tr>\n",
       "      <th>4</th>\n",
       "      <td>4680</td>\n",
       "      <td>12/31/04</td>\n",
       "      <td>Jeopardy!</td>\n",
       "      <td>EPITAPHS &amp; TRIBUTES</td>\n",
       "      <td>$200</td>\n",
       "      <td>Signer of the Dec. of Indep., framer of the Co...</td>\n",
       "      <td>John Adams</td>\n",
       "    </tr>\n",
       "    <tr>\n",
       "      <th>5</th>\n",
       "      <td>4680</td>\n",
       "      <td>12/31/04</td>\n",
       "      <td>Jeopardy!</td>\n",
       "      <td>3-LETTER WORDS</td>\n",
       "      <td>$200</td>\n",
       "      <td>In the title of an Aesop fable, this insect sh...</td>\n",
       "      <td>the ant</td>\n",
       "    </tr>\n",
       "    <tr>\n",
       "      <th>6</th>\n",
       "      <td>4680</td>\n",
       "      <td>12/31/04</td>\n",
       "      <td>Jeopardy!</td>\n",
       "      <td>HISTORY</td>\n",
       "      <td>$400</td>\n",
       "      <td>Built in 312 B.C. to link Rome &amp; the South of ...</td>\n",
       "      <td>the Appian Way</td>\n",
       "    </tr>\n",
       "    <tr>\n",
       "      <th>7</th>\n",
       "      <td>4680</td>\n",
       "      <td>12/31/04</td>\n",
       "      <td>Jeopardy!</td>\n",
       "      <td>ESPN's TOP 10 ALL-TIME ATHLETES</td>\n",
       "      <td>$400</td>\n",
       "      <td>No. 8: 30 steals for the Birmingham Barons; 2,...</td>\n",
       "      <td>Michael Jordan</td>\n",
       "    </tr>\n",
       "    <tr>\n",
       "      <th>8</th>\n",
       "      <td>4680</td>\n",
       "      <td>12/31/04</td>\n",
       "      <td>Jeopardy!</td>\n",
       "      <td>EVERYBODY TALKS ABOUT IT...</td>\n",
       "      <td>$400</td>\n",
       "      <td>In the winter of 1971-72, a record 1,122 inche...</td>\n",
       "      <td>Washington</td>\n",
       "    </tr>\n",
       "    <tr>\n",
       "      <th>9</th>\n",
       "      <td>4680</td>\n",
       "      <td>12/31/04</td>\n",
       "      <td>Jeopardy!</td>\n",
       "      <td>THE COMPANY LINE</td>\n",
       "      <td>$400</td>\n",
       "      <td>This housewares store was named for the packag...</td>\n",
       "      <td>Crate &amp; Barrel</td>\n",
       "    </tr>\n",
       "  </tbody>\n",
       "</table>\n",
       "</div>"
      ],
      "text/plain": [
       "   ShowNumber   AirDate      Round                            Genre  Value  \\\n",
       "0        4680  12/31/04  Jeopardy!                          HISTORY  $200    \n",
       "1        4680  12/31/04  Jeopardy!  ESPN's TOP 10 ALL-TIME ATHLETES  $200    \n",
       "2        4680  12/31/04  Jeopardy!      EVERYBODY TALKS ABOUT IT...  $200    \n",
       "3        4680  12/31/04  Jeopardy!                 THE COMPANY LINE  $200    \n",
       "4        4680  12/31/04  Jeopardy!              EPITAPHS & TRIBUTES  $200    \n",
       "5        4680  12/31/04  Jeopardy!                   3-LETTER WORDS  $200    \n",
       "6        4680  12/31/04  Jeopardy!                          HISTORY  $400    \n",
       "7        4680  12/31/04  Jeopardy!  ESPN's TOP 10 ALL-TIME ATHLETES  $400    \n",
       "8        4680  12/31/04  Jeopardy!      EVERYBODY TALKS ABOUT IT...  $400    \n",
       "9        4680  12/31/04  Jeopardy!                 THE COMPANY LINE  $400    \n",
       "\n",
       "                                            Question          Answer  \n",
       "0  For the last 8 years of his life, Galileo was ...      Copernicus  \n",
       "1  No. 2: 1912 Olympian; football star at Carlisl...      Jim Thorpe  \n",
       "2  The city of Yuma in this state has a record av...         Arizona  \n",
       "3  In 1963, live on \"The Art Linkletter Show\", th...      McDonald's  \n",
       "4  Signer of the Dec. of Indep., framer of the Co...      John Adams  \n",
       "5  In the title of an Aesop fable, this insect sh...         the ant  \n",
       "6  Built in 312 B.C. to link Rome & the South of ...  the Appian Way  \n",
       "7  No. 8: 30 steals for the Birmingham Barons; 2,...  Michael Jordan  \n",
       "8  In the winter of 1971-72, a record 1,122 inche...      Washington  \n",
       "9  This housewares store was named for the packag...  Crate & Barrel  "
      ]
     },
     "execution_count": 9,
     "metadata": {},
     "output_type": "execute_result"
    }
   ],
   "source": [
    "jeopardy.head(10)"
   ]
  },
  {
   "cell_type": "markdown",
   "metadata": {},
   "source": [
    "# Question 11. Put the code below to change the Genre column back to Category.\n",
    "Make to use the head function to view your rename results\n"
   ]
  },
  {
   "cell_type": "code",
   "execution_count": 10,
   "metadata": {},
   "outputs": [
    {
     "data": {
      "text/html": [
       "<div>\n",
       "<style scoped>\n",
       "    .dataframe tbody tr th:only-of-type {\n",
       "        vertical-align: middle;\n",
       "    }\n",
       "\n",
       "    .dataframe tbody tr th {\n",
       "        vertical-align: top;\n",
       "    }\n",
       "\n",
       "    .dataframe thead th {\n",
       "        text-align: right;\n",
       "    }\n",
       "</style>\n",
       "<table border=\"1\" class=\"dataframe\">\n",
       "  <thead>\n",
       "    <tr style=\"text-align: right;\">\n",
       "      <th></th>\n",
       "      <th>ShowNumber</th>\n",
       "      <th>AirDate</th>\n",
       "      <th>Round</th>\n",
       "      <th>Category</th>\n",
       "      <th>Value</th>\n",
       "      <th>Question</th>\n",
       "      <th>Answer</th>\n",
       "    </tr>\n",
       "  </thead>\n",
       "  <tbody>\n",
       "    <tr>\n",
       "      <th>0</th>\n",
       "      <td>4680</td>\n",
       "      <td>12/31/04</td>\n",
       "      <td>Jeopardy!</td>\n",
       "      <td>HISTORY</td>\n",
       "      <td>$200</td>\n",
       "      <td>For the last 8 years of his life, Galileo was ...</td>\n",
       "      <td>Copernicus</td>\n",
       "    </tr>\n",
       "    <tr>\n",
       "      <th>1</th>\n",
       "      <td>4680</td>\n",
       "      <td>12/31/04</td>\n",
       "      <td>Jeopardy!</td>\n",
       "      <td>ESPN's TOP 10 ALL-TIME ATHLETES</td>\n",
       "      <td>$200</td>\n",
       "      <td>No. 2: 1912 Olympian; football star at Carlisl...</td>\n",
       "      <td>Jim Thorpe</td>\n",
       "    </tr>\n",
       "    <tr>\n",
       "      <th>2</th>\n",
       "      <td>4680</td>\n",
       "      <td>12/31/04</td>\n",
       "      <td>Jeopardy!</td>\n",
       "      <td>EVERYBODY TALKS ABOUT IT...</td>\n",
       "      <td>$200</td>\n",
       "      <td>The city of Yuma in this state has a record av...</td>\n",
       "      <td>Arizona</td>\n",
       "    </tr>\n",
       "    <tr>\n",
       "      <th>3</th>\n",
       "      <td>4680</td>\n",
       "      <td>12/31/04</td>\n",
       "      <td>Jeopardy!</td>\n",
       "      <td>THE COMPANY LINE</td>\n",
       "      <td>$200</td>\n",
       "      <td>In 1963, live on \"The Art Linkletter Show\", th...</td>\n",
       "      <td>McDonald's</td>\n",
       "    </tr>\n",
       "    <tr>\n",
       "      <th>4</th>\n",
       "      <td>4680</td>\n",
       "      <td>12/31/04</td>\n",
       "      <td>Jeopardy!</td>\n",
       "      <td>EPITAPHS &amp; TRIBUTES</td>\n",
       "      <td>$200</td>\n",
       "      <td>Signer of the Dec. of Indep., framer of the Co...</td>\n",
       "      <td>John Adams</td>\n",
       "    </tr>\n",
       "    <tr>\n",
       "      <th>5</th>\n",
       "      <td>4680</td>\n",
       "      <td>12/31/04</td>\n",
       "      <td>Jeopardy!</td>\n",
       "      <td>3-LETTER WORDS</td>\n",
       "      <td>$200</td>\n",
       "      <td>In the title of an Aesop fable, this insect sh...</td>\n",
       "      <td>the ant</td>\n",
       "    </tr>\n",
       "    <tr>\n",
       "      <th>6</th>\n",
       "      <td>4680</td>\n",
       "      <td>12/31/04</td>\n",
       "      <td>Jeopardy!</td>\n",
       "      <td>HISTORY</td>\n",
       "      <td>$400</td>\n",
       "      <td>Built in 312 B.C. to link Rome &amp; the South of ...</td>\n",
       "      <td>the Appian Way</td>\n",
       "    </tr>\n",
       "    <tr>\n",
       "      <th>7</th>\n",
       "      <td>4680</td>\n",
       "      <td>12/31/04</td>\n",
       "      <td>Jeopardy!</td>\n",
       "      <td>ESPN's TOP 10 ALL-TIME ATHLETES</td>\n",
       "      <td>$400</td>\n",
       "      <td>No. 8: 30 steals for the Birmingham Barons; 2,...</td>\n",
       "      <td>Michael Jordan</td>\n",
       "    </tr>\n",
       "    <tr>\n",
       "      <th>8</th>\n",
       "      <td>4680</td>\n",
       "      <td>12/31/04</td>\n",
       "      <td>Jeopardy!</td>\n",
       "      <td>EVERYBODY TALKS ABOUT IT...</td>\n",
       "      <td>$400</td>\n",
       "      <td>In the winter of 1971-72, a record 1,122 inche...</td>\n",
       "      <td>Washington</td>\n",
       "    </tr>\n",
       "    <tr>\n",
       "      <th>9</th>\n",
       "      <td>4680</td>\n",
       "      <td>12/31/04</td>\n",
       "      <td>Jeopardy!</td>\n",
       "      <td>THE COMPANY LINE</td>\n",
       "      <td>$400</td>\n",
       "      <td>This housewares store was named for the packag...</td>\n",
       "      <td>Crate &amp; Barrel</td>\n",
       "    </tr>\n",
       "  </tbody>\n",
       "</table>\n",
       "</div>"
      ],
      "text/plain": [
       "   ShowNumber   AirDate      Round                         Category  Value  \\\n",
       "0        4680  12/31/04  Jeopardy!                          HISTORY  $200    \n",
       "1        4680  12/31/04  Jeopardy!  ESPN's TOP 10 ALL-TIME ATHLETES  $200    \n",
       "2        4680  12/31/04  Jeopardy!      EVERYBODY TALKS ABOUT IT...  $200    \n",
       "3        4680  12/31/04  Jeopardy!                 THE COMPANY LINE  $200    \n",
       "4        4680  12/31/04  Jeopardy!              EPITAPHS & TRIBUTES  $200    \n",
       "5        4680  12/31/04  Jeopardy!                   3-LETTER WORDS  $200    \n",
       "6        4680  12/31/04  Jeopardy!                          HISTORY  $400    \n",
       "7        4680  12/31/04  Jeopardy!  ESPN's TOP 10 ALL-TIME ATHLETES  $400    \n",
       "8        4680  12/31/04  Jeopardy!      EVERYBODY TALKS ABOUT IT...  $400    \n",
       "9        4680  12/31/04  Jeopardy!                 THE COMPANY LINE  $400    \n",
       "\n",
       "                                            Question          Answer  \n",
       "0  For the last 8 years of his life, Galileo was ...      Copernicus  \n",
       "1  No. 2: 1912 Olympian; football star at Carlisl...      Jim Thorpe  \n",
       "2  The city of Yuma in this state has a record av...         Arizona  \n",
       "3  In 1963, live on \"The Art Linkletter Show\", th...      McDonald's  \n",
       "4  Signer of the Dec. of Indep., framer of the Co...      John Adams  \n",
       "5  In the title of an Aesop fable, this insect sh...         the ant  \n",
       "6  Built in 312 B.C. to link Rome & the South of ...  the Appian Way  \n",
       "7  No. 8: 30 steals for the Birmingham Barons; 2,...  Michael Jordan  \n",
       "8  In the winter of 1971-72, a record 1,122 inche...      Washington  \n",
       "9  This housewares store was named for the packag...  Crate & Barrel  "
      ]
     },
     "execution_count": 10,
     "metadata": {},
     "output_type": "execute_result"
    }
   ],
   "source": [
    "jeopardy.rename(columns={'Genre':'Category'}, inplace=True)\n",
    "jeopardy.head(10)"
   ]
  },
  {
   "cell_type": "markdown",
   "metadata": {},
   "source": [
    "To begin exploratory analysis of the jeorpardy dataset, use the shape() function to return the dimensionality of the dataset or the total number of columns and rows of the dataframe.\n",
    "df.shape()\n",
    "where df is the name of the dataframe\n",
    "\n",
    "# Question 12. Write the code to view the number of rows and columns in the dataframe jeopardy"
   ]
  },
  {
   "cell_type": "code",
   "execution_count": 11,
   "metadata": {},
   "outputs": [
    {
     "name": "stdout",
     "output_type": "stream",
     "text": [
      "The table has 19999 rows and  7 columns.\n"
     ]
    }
   ],
   "source": [
    "shape(jeopardy)"
   ]
  },
  {
   "cell_type": "markdown",
   "metadata": {},
   "source": [
    "We see that our data has 20000 rows and 8 columns\n",
    "\n",
    "When you printed the first 25 rows, did you see any missing values or Not A Number values?\n",
    "\n",
    "\n",
    "\n",
    "There is an easier ways to check for missing values or Not A Number (NANs) in your dataframe rather than looking through the entire dataset manually. In some cases the missing values are shown as NaNs or just blank cells in the dataframe.\n",
    "\n",
    "There are four ways:\n",
    "\n",
    "# 1. Check for NAN under a single dataframe column\n",
    "To do this you would use the command df['column_name'].isnull().values.any()\n",
    "where df is the name of your dataframe and column_name is the name of the column\n",
    "\n",
    "Let's check for missing value under the Answer column\n",
    "\n",
    "# Question 13. Write the code to check for missing values from the Answer column "
   ]
  },
  {
   "cell_type": "code",
   "execution_count": 12,
   "metadata": {},
   "outputs": [
    {
     "name": "stdout",
     "output_type": "stream",
     "text": [
      "True\n"
     ]
    }
   ],
   "source": [
    "print(jeopardy['Answer'].isnull().values.any())"
   ]
  },
  {
   "cell_type": "markdown",
   "metadata": {},
   "source": [
    "# Question 14. Are there NANs in the Answer column. Put your answer below\n",
    "\n",
    "# (2) Count the NaN under a single DataFrame column:\n",
    "#\n",
    "\n",
    "\n",
    "\n"
   ]
  },
  {
   "cell_type": "code",
   "execution_count": 13,
   "metadata": {},
   "outputs": [
    {
     "data": {
      "text/plain": [
       "2"
      ]
     },
     "execution_count": 13,
     "metadata": {},
     "output_type": "execute_result"
    }
   ],
   "source": [
    "jeopardy['Answer'].isnull().sum()"
   ]
  },
  {
   "cell_type": "markdown",
   "metadata": {},
   "source": [
    "# Question 15. Count the NAN under the Category column. Write your answer below and run the output"
   ]
  },
  {
   "cell_type": "code",
   "execution_count": 14,
   "metadata": {},
   "outputs": [
    {
     "data": {
      "text/plain": [
       "0"
      ]
     },
     "execution_count": 14,
     "metadata": {},
     "output_type": "execute_result"
    }
   ],
   "source": [
    "jeopardy['Category'].isnull().sum()"
   ]
  },
  {
   "cell_type": "markdown",
   "metadata": {},
   "source": [
    "# (3) Check for NaN under an entire DataFrame:\n",
    "\n"
   ]
  },
  {
   "cell_type": "code",
   "execution_count": 15,
   "metadata": {},
   "outputs": [
    {
     "data": {
      "text/plain": [
       "True"
      ]
     },
     "execution_count": 15,
     "metadata": {},
     "output_type": "execute_result"
    }
   ],
   "source": [
    "jeopardy.isnull().values.any()"
   ]
  },
  {
   "cell_type": "markdown",
   "metadata": {},
   "source": [
    "# Question 16. Write the answer to check the entire jeopardy dataframe for NANs.\n"
   ]
  },
  {
   "cell_type": "code",
   "execution_count": 16,
   "metadata": {},
   "outputs": [
    {
     "data": {
      "text/plain": [
       "True"
      ]
     },
     "execution_count": 16,
     "metadata": {},
     "output_type": "execute_result"
    }
   ],
   "source": [
    "jeopardy.isnull().values.any()"
   ]
  },
  {
   "cell_type": "markdown",
   "metadata": {},
   "source": [
    "# (4) Count the NaN under an entire DataFrame:\n",
    "\n",
    "df.isnull().sum().sum()\n",
    "\n",
    "df is the name of the dataframe\n",
    "\n",
    "# Question 17. Write the answer to count the number of missing values from the entire DataFrame\n",
    "\n",
    "Note: You can use isna or isnull\n"
   ]
  },
  {
   "cell_type": "code",
   "execution_count": 17,
   "metadata": {},
   "outputs": [
    {
     "data": {
      "text/plain": [
       "4"
      ]
     },
     "execution_count": 17,
     "metadata": {},
     "output_type": "execute_result"
    }
   ],
   "source": [
    "jeopardy.isna().any().sum()"
   ]
  },
  {
   "cell_type": "markdown",
   "metadata": {},
   "source": [
    "There are missing values that need to be dealt with \n",
    "In some cases you can replace them all if the data for each column was the same. ie all strings or all numbers."
   ]
  },
  {
   "cell_type": "markdown",
   "metadata": {},
   "source": [
    "# Question 18. How would you treat replacing all of the missing values in your jeopardy dataset? What about for columns that are strings? What about for columns that are values?\n",
    "\n",
    "I would imagine that the replace method works for all data types."
   ]
  },
  {
   "cell_type": "markdown",
   "metadata": {},
   "source": [
    "# Getting the Index or indices of the missing values in your dataframe\n",
    "df[df['column_name'].isnull()]\n",
    "\n",
    "Note: Characters such as empty strings ‘’ or numpy.inf are not considered NA values (unless you set pandas.options.mode.use_inf_as_na = True).\n",
    "\n",
    "# Question 19. # Write the code to get the indices of the missing values in the jeopardy dataframe for the columns Question, Answer, Round, Value, Category"
   ]
  },
  {
   "cell_type": "code",
   "execution_count": 18,
   "metadata": {},
   "outputs": [
    {
     "name": "stdout",
     "output_type": "stream",
     "text": [
      "Question: [321, 388]\n",
      "Answer [112, 260]\n",
      "Round [174]\n",
      "Value [588]\n",
      "Category []\n"
     ]
    }
   ],
   "source": [
    "print(\"Question:\", jeopardy[jeopardy['Question'].isnull()].index.tolist())\n",
    "print(\"Answer\",jeopardy[jeopardy['Answer'].isnull()].index.tolist())\n",
    "print(\"Round\",jeopardy[jeopardy['Round'].isnull()].index.tolist())\n",
    "print(\"Value\",jeopardy[jeopardy['Value'].isnull()].index.tolist())\n",
    "print(\"Category\",jeopardy[jeopardy['Category'].isnull()].index.tolist())\n",
    "#list(jeopardy.columns)"
   ]
  },
  {
   "cell_type": "markdown",
   "metadata": {},
   "source": [
    "# More Dealing with Missing Data \n",
    "\n",
    "In most cases you will drop or delete those rows from the dataset that you  are analyzing\n",
    "\n",
    "However, if you yare dealing with a datset that is small and you need all the data necessary to analyze the problem, you may want to check back with the datasource to look for those missing values.\n",
    "\n",
    "In some easier cases you can check online resources to try and fill in the missing data. This is tricky those because the data on the internet is not always correct and you are taking a chance in using the values you find in your analysis."
   ]
  },
  {
   "cell_type": "markdown",
   "metadata": {},
   "source": [
    "# Let's remove the missing values from our dataframe and print the number of rows in the dataset after removing missing data rows\n",
    "To do this we use the drop function and the syntax:\n",
    "    df.drop(index_list, inplace=True)\n",
    "    \n",
    "   where df is the data frame and the index_list is an array of row indices to remove from the data frame"
   ]
  },
  {
   "cell_type": "code",
   "execution_count": 19,
   "metadata": {},
   "outputs": [
    {
     "data": {
      "text/plain": [
       "(19993, 7)"
      ]
     },
     "execution_count": 19,
     "metadata": {},
     "output_type": "execute_result"
    }
   ],
   "source": [
    "jeopardy.drop([321,388,112,260,174,588], inplace=True)\n",
    "jeopardy.shape"
   ]
  },
  {
   "cell_type": "markdown",
   "metadata": {},
   "source": [
    "# Now the easy way to drop missing values from your dataframe\n",
    "You can also use the dropna command \n",
    "\n",
    "df.dropna(inplace = True) \n",
    "\n",
    "where df is the dataframe\n",
    "\n",
    "# Let's move on to visualizing aspects about the data now that values are not missing\n",
    "1. Visualize the top 10 answers"
   ]
  },
  {
   "cell_type": "code",
   "execution_count": 20,
   "metadata": {},
   "outputs": [
    {
     "name": "stdout",
     "output_type": "stream",
     "text": [
      "Japan        22\n",
      "China        19\n",
      "Australia    19\n",
      "Canada       19\n",
      "India        19\n",
      "Texas        18\n",
      "Italy        18\n",
      "Chicago      17\n",
      "Paris        16\n",
      "Hawaii       16\n",
      "Name: Answer, dtype: int64\n"
     ]
    },
    {
     "data": {
      "text/plain": [
       "Text(0.5, 1.0, 'Top 10 Answer Distribution')"
      ]
     },
     "execution_count": 20,
     "metadata": {},
     "output_type": "execute_result"
    },
    {
     "data": {
      "image/png": "[encoded data removed]",
      "text/plain": [
       "<Figure size 1080x720 with 1 Axes>"
      ]
     },
     "metadata": {
      "needs_background": "light"
     },
     "output_type": "display_data"
    }
   ],
   "source": [
    "top_10 = jeopardy['Answer'].value_counts()[:10]\n",
    "print(top_10)\n",
    "\n",
    "mask = jeopardy['Answer'].map(lambda x: x in top_10.index.tolist())\n",
    "sns.countplot(y='Answer', data=jeopardy[mask], palette=sns.color_palette('inferno', 15), order=top_10.index.tolist())\n",
    "plt.gcf().set_size_inches(15,10)\n",
    "plt.title('Top 10 Answer Distribution', size=25)"
   ]
  },
  {
   "cell_type": "markdown",
   "metadata": {},
   "source": [
    "# Question 20. Describe what you think the value_counts function is doing below\n",
    "It looks like it's taking the count of the reoccurring values in a specific column and ordering them in descending order."
   ]
  },
  {
   "cell_type": "markdown",
   "metadata": {},
   "source": [
    "# Explanation of the code above\n",
    "The value_counts() function counts the number of answers that are the same.\n",
    "This is stored in the variable top_10\n",
    "The [:10] grabs the first ten rows in the dataframe\n",
    "\n",
    "The rest of the code uses the seaborn library to create a horizontal bar to visuzlie the top 10 most common answers from the Jeopary dataset"
   ]
  },
  {
   "cell_type": "code",
   "execution_count": 21,
   "metadata": {},
   "outputs": [
    {
     "name": "stdout",
     "output_type": "stream",
     "text": [
      "[audio clue]                                                                                                             5\n",
      "\"His pride had cast him out from heaven, with all his host of rebel angels\"                                              2\n",
      "In Nicolai's opera \"The Merry Wives of Windsor\", this fat, funny rogue gets dumped into the river in a laundry basket    2\n",
      "Common in Dixie, a razorback is a wild one of these                                                                      2\n",
      "Poi, a luau treat, is made from these mashed roots                                                                       2\n",
      "1967: \"We rob banks\"                                                                                                     2\n",
      "Adam Levine                                                                                                              2\n",
      "These \"fell great oaks\"                                                                                                  2\n",
      "The U.S. U-2, first built in the 1950s, was an airplane; the German U-1, first built in the 1910s, was one of these      1\n",
      "The Time Almanac states \"There is little reason to believe that the architects intended\" this \"to lean\"                  1\n",
      "Name: Question, dtype: int64\n"
     ]
    }
   ],
   "source": [
    "top_10_Q = jeopardy['Question'].value_counts()[:10]\n",
    "print(top_10_Q)"
   ]
  },
  {
   "cell_type": "markdown",
   "metadata": {},
   "source": [
    "# Question 21. What do you notice about your Plot. Write the answer below\n",
    "There's a cool colorway I've never seen before in the earlier one. The last code said not to plot it."
   ]
  },
  {
   "cell_type": "markdown",
   "metadata": {},
   "source": [
    "The method we used for Question 18 won't work for this question.  \n",
    "Remove the [:10] from the end of value_counts()\n",
    "\n",
    "# Write the code without the value_counts at the end"
   ]
  },
  {
   "cell_type": "code",
   "execution_count": 22,
   "metadata": {},
   "outputs": [
    {
     "data": {
      "text/plain": [
       "[audio clue]                                                                                                                                                                          5\n",
       "\"His pride had cast him out from heaven, with all his host of rebel angels\"                                                                                                           2\n",
       "In Nicolai's opera \"The Merry Wives of Windsor\", this fat, funny rogue gets dumped into the river in a laundry basket                                                                 2\n",
       "Common in Dixie, a razorback is a wild one of these                                                                                                                                   2\n",
       "Poi, a luau treat, is made from these mashed roots                                                                                                                                    2\n",
       "                                                                                                                                                                                     ..\n",
       "A homophone of a verb meaning \"to paddle\"                                                                                                                                             1\n",
       "It's the 9-letter name for a type of restaurant that specializes in steak & other meat on the bone                                                                                    1\n",
       "Dominican Fra Bartolommeo painted the portrait of <a href=\"http://www.j-archive.com/media/2009-01-05_DJ_10.jpg\" target=\"_blank\">this</a> philosopher, author of \"Summa Theologica\"    1\n",
       "The rock opera \"Rent\" is a reworking of this Puccini opera, set in modern times                                                                                                       1\n",
       "Days out of prison in 1945, he married Maria Eva Duarte; we now know her as Evita                                                                                                     1\n",
       "Name: Question, Length: 19982, dtype: int64"
      ]
     },
     "execution_count": 22,
     "metadata": {},
     "output_type": "execute_result"
    }
   ],
   "source": [
    "jeopardy['Question'].value_counts()"
   ]
  },
  {
   "cell_type": "markdown",
   "metadata": {},
   "source": [
    "# Notice that [audio clue] is included as a value for the Question column\n",
    "We can only assume that Jeopardy provides a audio clue rather than a textual question to the contestant. This is not helpful for our analysis as it occurs five times in the dataset and the audio clip is not known.\n",
    "\n",
    "This value is not useful and this row should be removed\n",
    "\n",
    "# Question 22 . Write the code to remove the row with '[audio clue]' listed as a value for the Question column"
   ]
  },
  {
   "cell_type": "code",
   "execution_count": 23,
   "metadata": {},
   "outputs": [],
   "source": [
    "top_10_Q = jeopardy[jeopardy['Question'] != '[audio clue]']"
   ]
  },
  {
   "cell_type": "code",
   "execution_count": 24,
   "metadata": {},
   "outputs": [
    {
     "data": {
      "text/plain": [
       "(19993, 7)"
      ]
     },
     "execution_count": 24,
     "metadata": {},
     "output_type": "execute_result"
    }
   ],
   "source": [
    "jeopardy.shape"
   ]
  },
  {
   "cell_type": "markdown",
   "metadata": {},
   "source": [
    "# Text Preprocessing\n",
    "Some of the values have URLs and HTML tags embedded within them\n",
    "We will need to clean that up before we can analyze the data\n",
    "\n",
    "We can use pandas regular expressions functions\n",
    "\n",
    "Instead of munging the original data, it is better to copy the data into new column\n",
    "This new column is called jeopardy['without_tags']\n",
    "\n",
    "You should never overwrite the a column in your original dataset, rather add on to it because you'll never know if and when you'll need the original data to perform another operation.\n",
    "\n",
    "# Question 23. Write the code to import the regular expression libary"
   ]
  },
  {
   "cell_type": "code",
   "execution_count": 25,
   "metadata": {},
   "outputs": [],
   "source": [
    "import re"
   ]
  },
  {
   "cell_type": "code",
   "execution_count": 26,
   "metadata": {},
   "outputs": [
    {
     "name": "stdout",
     "output_type": "stream",
     "text": [
      "\n",
      "Sentences without tags:\n",
      "0        For the last 8 years of his life, Galileo was ...\n",
      "1        No. 2: 1912 Olympian; football star at Carlisl...\n",
      "2        The city of Yuma in this state has a record av...\n",
      "3        In 1963, live on \"The Art Linkletter Show\", th...\n",
      "4        Signer of the Dec. of Indep., framer of the Co...\n",
      "                               ...                        \n",
      "19994    Of 8, 12 or 18, the number of U.S. states that...\n",
      "19995                        ...& the New Power Generation\n",
      "19996    In 1589 he was appointed professor of mathemat...\n",
      "19997    Before the grand jury she said, \"I'm really so...\n",
      "19998    Llamas are the heftiest South American members...\n",
      "Name: without_tags, Length: 19993, dtype: object\n"
     ]
    }
   ],
   "source": [
    "def remove_tags(string):\n",
    "    result = re.sub('<.*?>','',string)\n",
    "    return result\n",
    "jeopardy['without_tags'] = jeopardy['Question'].apply(lambda cw :remove_tags(cw))\n",
    "print(\"\\nSentences without tags:\")\n",
    "print(jeopardy['without_tags'])"
   ]
  },
  {
   "cell_type": "markdown",
   "metadata": {},
   "source": [
    "# Let's double-check our work to see if that worked\n",
    "Write the code to print out the old Question column data for row 30 that still  had html tags in it. \n",
    "\n",
    "Name this variable old_html_data"
   ]
  },
  {
   "cell_type": "code",
   "execution_count": 27,
   "metadata": {},
   "outputs": [
    {
     "name": "stdout",
     "output_type": "stream",
     "text": [
      "<a href=\"http://www.j-archive.com/media/2004-12-31_DJ_23.mp3\">Beyond ovoid abandonment, beyond ovoid betrayal... you won't believe the ending when he \"Hatches the Egg\"</a>\n"
     ]
    }
   ],
   "source": [
    "old_html_data = jeopardy['Question'][29]\n",
    "print(old_html_data)"
   ]
  },
  {
   "cell_type": "markdown",
   "metadata": {},
   "source": [
    "# Question 24. Write the code to print out the question column for row 30 without html in it. \n",
    "Name it new_data"
   ]
  },
  {
   "cell_type": "code",
   "execution_count": 28,
   "metadata": {},
   "outputs": [
    {
     "data": {
      "text/plain": [
       "'Beyond ovoid abandonment, beyond ovoid betrayal... you won\\'t believe the ending when he \"Hatches the Egg\"'"
      ]
     },
     "execution_count": 28,
     "metadata": {},
     "output_type": "execute_result"
    }
   ],
   "source": [
    "new_data = jeopardy['without_tags'][29]\n",
    "new_data"
   ]
  },
  {
   "cell_type": "markdown",
   "metadata": {},
   "source": [
    "# Making everything upper or lowercase\n",
    "Sometimes you will need to compare strings. To easily compare strings you should convert them to either upper or lowercase"
   ]
  },
  {
   "cell_type": "code",
   "execution_count": 29,
   "metadata": {},
   "outputs": [
    {
     "data": {
      "text/plain": [
       "'<a href=\"http://www.j-archive.com/media/2004-12-31_dj_23.mp3\">beyond ovoid abandonment, beyond ovoid betrayal... you won\\'t believe the ending when he \"hatches the egg\"</a>'"
      ]
     },
     "execution_count": 29,
     "metadata": {},
     "output_type": "execute_result"
    }
   ],
   "source": [
    "old_html_data.lower()"
   ]
  },
  {
   "cell_type": "code",
   "execution_count": 30,
   "metadata": {},
   "outputs": [
    {
     "data": {
      "text/plain": [
       "'<A HREF=\"HTTP://WWW.J-ARCHIVE.COM/MEDIA/2004-12-31_DJ_23.MP3\">BEYOND OVOID ABANDONMENT, BEYOND OVOID BETRAYAL... YOU WON\\'T BELIEVE THE ENDING WHEN HE \"HATCHES THE EGG\"</A>'"
      ]
     },
     "execution_count": 30,
     "metadata": {},
     "output_type": "execute_result"
    }
   ],
   "source": [
    "old_html_data.upper()"
   ]
  },
  {
   "cell_type": "markdown",
   "metadata": {},
   "source": [
    "# Question 25. Write the code to change the 'Answer' column to all lower case. \n",
    "Your new column should be called jeopardary['lower_answer']\n",
    "Print row number 25 before and after turning to lower case"
   ]
  },
  {
   "cell_type": "code",
   "execution_count": 32,
   "metadata": {},
   "outputs": [
    {
     "name": "stdout",
     "output_type": "stream",
     "text": [
      "(Wilt) Chamberlain\n",
      "(wilt) chamberlain\n"
     ]
    }
   ],
   "source": [
    "print(jeopardy['Answer'][25])\n",
    "jeopardy['lower_answer'] = jeopardy['Answer'].str.lower()\n",
    "print(jeopardy['lower_answer'][25])"
   ]
  }
 ],
 "metadata": {
  "kernelspec": {
   "display_name": "Python 3",
   "language": "python",
   "name": "python3"
  },
  "language_info": {
   "codemirror_mode": {
    "name": "ipython",
    "version": 3
   },
   "file_extension": ".py",
   "mimetype": "text/x-python",
   "name": "python",
   "nbconvert_exporter": "python",
   "pygments_lexer": "ipython3",
   "version": "3.8.6"
  }
 },
 "nbformat": 4,
 "nbformat_minor": 4
}
