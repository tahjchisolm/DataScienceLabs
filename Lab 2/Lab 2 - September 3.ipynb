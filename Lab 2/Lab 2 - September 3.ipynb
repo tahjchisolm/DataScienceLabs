{
 "cells": [
  {
   "cell_type": "markdown",
   "metadata": {
    "collapsed": true
   },
   "source": [
    "# Lab 2: Tables and Histograms"
   ]
  },
  {
   "cell_type": "markdown",
   "metadata": {},
   "source": [
    "Welcome to Lab 2 !\n",
    "\n",
    "In this lab we will go over:\n",
    "\n",
    "   **1) Loading and Manipulating Tables**\n",
    "    \n",
    "   **2) Creating Tables**\n",
    "    \n",
    "   **3) Histograms**\n"
   ]
  },
  {
   "cell_type": "markdown",
   "metadata": {},
   "source": [
    "## 1. Loading and Manipulating Tables\n",
    "\n",
    "\n",
    "### DataFrame functions and attributes\n",
    "\n",
    "A **DataFrame**, or better known as a **table**, is a two-dimensional tabular data structure with labeled columns and rows. Similar to spreadsheets, a data frame provides a way to store data in a way that's easily sorted and categorized. A data frame has four components: \n",
    "\n",
    "   **(1) indexes** \n",
    "    \n",
    "   **(2) columns**\n",
    "    \n",
    "   **(3) values**\n",
    "   \n",
    "   **(4) rows**\n",
    "    \n",
    "A data frame's index is the set of row labels. The index can have a name, which would be located in the first row and column of the data frame. A data frame's columns are the labels of the column data. The data contained in a data frame are also known as values. Although a value may indicate numerical data such as float or int, a value can also be a string or datetime. Finally, a rows contains information about one individual or element in the table. \n",
    "\n",
    "\n",
    "The first thing that we'll do is import the **pandas** library and assign it to **pd**  using **`import pandas as pd`**.\n",
    "\n",
    "Next, we will load our two tables into some variable names using **`pd.read_csv()`**, with the name of our table going into the parameters, and store them into a proper variable name. \n",
    "\n",
    "**Note:** We can also load tables using **`pd.read_table()`**, but the columns will not be delimited. Best to stick to the first method.\n",
    "\n",
    "The tables that we will be extracting data from is called **farmers_markets.csv** and **titanic.csv** Be sure to spell it correctly or the cell won't run.\n",
    "\n",
    "Run the cells below."
   ]
  },
  {
   "cell_type": "code",
   "execution_count": 43,
   "metadata": {},
   "outputs": [],
   "source": [
    "import pandas as pd\n",
    "fmarkets = pd.read_csv(\"farmers_markets.csv\")\n",
    "titanic = pd.read_csv(\"titanic.csv\")\n",
    "#titanic"
   ]
  },
  {
   "cell_type": "markdown",
   "metadata": {},
   "source": [
    "A good practice when first looking at a dataset is to take a look at the number of rows and columns in the dataset.\n",
    "\n",
    "We do this by calling a pandas attribute function called **`.shape`**. The **`.shape`** attribute function gives the number of rows and columns in that order.\n",
    "\n",
    "Run the cells below to see how shape is used."
   ]
  },
  {
   "cell_type": "code",
   "execution_count": 40,
   "metadata": {},
   "outputs": [
    {
     "name": "stdout",
     "output_type": "stream",
     "text": [
      "The farmers markets dataset has 8546 rows, and 59 columns\n"
     ]
    }
   ],
   "source": [
    "#print(\"The farmers markets dataset has a shape of\", fmarkets.shape)\n",
    "#print(\"The farmers markets dataset has\",fmarkets.shape[0], \"rows, and\",fmarkets.shape[1],\"columns\")\n",
    "#print(\"The titanic dataset has a shape of\", titanic.shape)\n",
    "#print(\"The titanic dataset has\",titanic.shape[0], \"rows, and\",titanic.shape[1],\"columns\")"
   ]
  },
  {
   "cell_type": "markdown",
   "metadata": {},
   "source": [
    "\n",
    "Next let's take a look at the various columns that this dataset has.\n",
    "\n",
    "We can do this two ways:\n",
    "\n",
    "1) We can use the most standard way and utilize the **`.columns`** attribute function, which displays the column labels.\n",
    "\n",
    "2) We can use the **`.dtypes`** attribute function, which displays the column labes and their respective data types\n",
    "\n",
    "Run the cells below to test these functions.\n"
   ]
  },
  {
   "cell_type": "code",
   "execution_count": 41,
   "metadata": {},
   "outputs": [],
   "source": [
    "#print(\"Farmers Markets\")\n",
    "#print(\"  \")\n",
    "#print(fmarkets.columns)\n",
    "#print(fmarkets.dtypes)\n",
    "#print(\"  \")\n",
    "#print(\"Titanic\")\n",
    "#print(\"  \")\n",
    "#print(titanic.columns)\n",
    "#print(titanic.dtypes)"
   ]
  },
  {
   "cell_type": "markdown",
   "metadata": {},
   "source": [
    "Say you want to get the values of a particular column. Using the **`.values`** attribute we can do this."
   ]
  },
  {
   "cell_type": "code",
   "execution_count": 17,
   "metadata": {},
   "outputs": [],
   "source": [
    "#print(\"FMID values:\", fmarkets['FMID'].values)\n",
    "#print(\"\")\n",
    "#print(\"Survived values:\",titanic['Survived'].values)"
   ]
  },
  {
   "cell_type": "markdown",
   "metadata": {},
   "source": [
    "As you can see, these functions also support indexing, and can be used to pull specific columns of data.\n",
    "\n",
    "Say you want to take a look at the first 5 rows of data in a dataset. You can use the **`.head()`** function to do this.\n",
    "\n",
    "Conversely, say you want to take a look at the last 5 rows of data in a dataset. You can use the **`.tail()`** function to do this.\n",
    "\n",
    "Run the cell below to test these functions."
   ]
  },
  {
   "cell_type": "code",
   "execution_count": null,
   "metadata": {},
   "outputs": [],
   "source": [
    "#fmarkets.head()"
   ]
  },
  {
   "cell_type": "code",
   "execution_count": null,
   "metadata": {},
   "outputs": [],
   "source": [
    "#titanic.tail()"
   ]
  },
  {
   "cell_type": "markdown",
   "metadata": {},
   "source": [
    "You might have noticed that the tables above do not display all of the columns. \n",
    "\n",
    "Whenever we have a large amount of columns, it is neccessary for us to select and specify what kind of columns we want.\n",
    "\n",
    "For this, we can use the **`.loc`** function to select a range of rows and a subset of columns, or **`iloc()`** which is used to select a range of rows and/or columns.\n",
    "\n",
    "We can also index the column names while using other functions.\n",
    "\n",
    "Run the cells below to test these functions."
   ]
  },
  {
   "cell_type": "code",
   "execution_count": 37,
   "metadata": {},
   "outputs": [],
   "source": [
    "#fmarkets.loc[0:4, [\"MarketName\", \"city\", \"State\"]]"
   ]
  },
  {
   "cell_type": "code",
   "execution_count": 38,
   "metadata": {},
   "outputs": [],
   "source": [
    "#titanic.iloc[10:20, 3:5]"
   ]
  },
  {
   "cell_type": "markdown",
   "metadata": {},
   "source": [
    "**Question 1:** What are the four main components of a dataframe (table) ?"
   ]
  },
  {
   "cell_type": "code",
   "execution_count": null,
   "metadata": {},
   "outputs": [],
   "source": [
    "main_components = \" \""
   ]
  },
  {
   "cell_type": "code",
   "execution_count": null,
   "metadata": {},
   "outputs": [],
   "source": []
  },
  {
   "cell_type": "markdown",
   "metadata": {},
   "source": [
    "**Question 2:** Output a table containing the first 200 rows with the columns MarketName,street,city,state, and zip."
   ]
  },
  {
   "cell_type": "code",
   "execution_count": null,
   "metadata": {},
   "outputs": [],
   "source": []
  },
  {
   "cell_type": "markdown",
   "metadata": {},
   "source": [
    "**Question 3:** Output a table containing the last 5 rows and the first 5 columns of the titanic data set."
   ]
  },
  {
   "cell_type": "code",
   "execution_count": null,
   "metadata": {},
   "outputs": [],
   "source": []
  },
  {
   "cell_type": "markdown",
   "metadata": {},
   "source": [
    "### Population Amounts\n",
    "\n",
    "Let's work with a more interesting dataset. The next cell creates an array called population_amounts that includes estimated world populations in every year from 1950 to roughly the present. (The estimates come from the US Census Bureau website.)\n",
    "\n",
    "Run the cell below to get started."
   ]
  },
  {
   "cell_type": "code",
   "execution_count": 71,
   "metadata": {},
   "outputs": [],
   "source": [
    "population_amounts = pd.read_csv(\"world_population.csv\")\n",
    "\n",
    "#population_amounts"
   ]
  },
  {
   "cell_type": "markdown",
   "metadata": {},
   "source": [
    "Notice that this file only contains the population raw numbers.\n",
    "\n",
    "Since there are no dates, we will have to manually add them.\n",
    "\n",
    "We can do this in two steps:\n",
    "\n",
    "First, create an list filled with dates for the data, starting with 1950."
   ]
  },
  {
   "cell_type": "code",
   "execution_count": 72,
   "metadata": {
    "scrolled": true
   },
   "outputs": [],
   "source": [
    "years = [1950] # Initialize the 'years' list with 1950\n",
    "rows = population_amounts.shape[0] - 1 # Subtract from 1 to account for the title of the columns\n",
    "count = 0\n",
    "\n",
    "# Fill the 'years' list with elements\n",
    "while count != rows:\n",
    "    years.append(years[count] + 1)\n",
    "    count += 1\n",
    "   "
   ]
  },
  {
   "cell_type": "markdown",
   "metadata": {},
   "source": [
    "Second, **add** the `years` array as a **column** to your original table with the following syntax."
   ]
  },
  {
   "cell_type": "code",
   "execution_count": 73,
   "metadata": {},
   "outputs": [],
   "source": [
    "population_amounts['Year'] = years\n",
    "\n",
    "#population_amounts"
   ]
  },
  {
   "cell_type": "markdown",
   "metadata": {},
   "source": [
    "We can **change the position** of the columns with the following syntax:"
   ]
  },
  {
   "cell_type": "code",
   "execution_count": 56,
   "metadata": {},
   "outputs": [],
   "source": [
    "#population_amounts[['Year','Population']]"
   ]
  },
  {
   "cell_type": "markdown",
   "metadata": {},
   "source": [
    "If you type the table name 'population' in the following line, you'll notice that the columns stayed the same despite the operation done by the previous cell."
   ]
  },
  {
   "cell_type": "code",
   "execution_count": 52,
   "metadata": {},
   "outputs": [],
   "source": [
    "#population_amounts"
   ]
  },
  {
   "cell_type": "markdown",
   "metadata": {},
   "source": [
    "To update the columns in the table, simple reassign the variable name to the table operations you did in the previous step. You can do so in the following cell below:"
   ]
  },
  {
   "cell_type": "code",
   "execution_count": 74,
   "metadata": {},
   "outputs": [],
   "source": [
    "population_amounts = population_amounts[['Year','Population']]"
   ]
  },
  {
   "cell_type": "markdown",
   "metadata": {},
   "source": [
    "We can get the first element of the table by using **`.iloc`** just like we did in early.\n",
    "\n",
    "The first element in the world population is the first year in the dataset, 1950.\n",
    "\n",
    "Run the cells below"
   ]
  },
  {
   "cell_type": "code",
   "execution_count": 49,
   "metadata": {},
   "outputs": [],
   "source": [
    "#population_amounts.iloc[0,1]"
   ]
  },
  {
   "cell_type": "markdown",
   "metadata": {},
   "source": [
    "The value of that expression is the number 2557628654 (around 2.5 billion), because that's the first thing in the array population_amounts.\n",
    "\n",
    "Here are some more examples. In the examples, we've given names to the things we get out of population_amounts. Read and run each cell."
   ]
  },
  {
   "cell_type": "code",
   "execution_count": 75,
   "metadata": {},
   "outputs": [],
   "source": [
    "# The 13th element in the array is the population\n",
    "# is 1962. The value of 1962 can be indexed from\n",
    "# the table by subtracting 1962 - 1950\n",
    "population_1962 = population_amounts.iloc[1962 - 1950,1]\n",
    "#population_1962"
   ]
  },
  {
   "cell_type": "code",
   "execution_count": 58,
   "metadata": {},
   "outputs": [],
   "source": [
    "# The 66th element is the population in 2015.\n",
    "population_2015 = population_amounts.iloc[2015-1950, 1]\n",
    "#population_2015"
   ]
  },
  {
   "cell_type": "code",
   "execution_count": 55,
   "metadata": {},
   "outputs": [],
   "source": [
    "# The array has only 66 elements, so this doesn't work.\n",
    "# (There's no element with 66 other elements before it.)\n",
    "population_2016 = population_amounts.iloc[2016 - 1950, 1]\n",
    "\n",
    "\n",
    "#Comment this cell out after running it"
   ]
  },
  {
   "cell_type": "markdown",
   "metadata": {},
   "source": [
    "**Question:** Set `population_1973` to the world population in 1973, by getting the appropriate element from `population_amounts` using `iloc`."
   ]
  },
  {
   "cell_type": "code",
   "execution_count": null,
   "metadata": {},
   "outputs": [],
   "source": [
    "population_1973 = \n",
    "population_1973"
   ]
  },
  {
   "cell_type": "markdown",
   "metadata": {},
   "source": [
    "### Doing something to every element of an array\n",
    "Arrays are primarily useful for doing the same operation many times, so we don't often have to use .iloc and work with single elements.\n",
    "\n",
    "##### Logarithms\n",
    "\n",
    "Here is one simple question we might ask about world population:\n",
    "\n",
    "How big was the population in orders of magnitude in each year?\n",
    "\n",
    "Orders of magnitude quantify how big a number is by representing it as the power of another number (for example, representing 104 as  102.017033 ). One way to do this is by using the logarithm function. The logarithm (base 10) of a number increases by 1 every time we multiply the number by 10. It's like a measure of how many decimal digits the number has, or how big it is in orders of magnitude.\n",
    "\n",
    "We could try to answer our question like this, using the **`log10`** function from the math module and the iloc method you just saw:\n",
    "\n",
    "Run the cells below:"
   ]
  },
  {
   "cell_type": "code",
   "execution_count": 60,
   "metadata": {},
   "outputs": [],
   "source": [
    "import math\n",
    "\n",
    "population_1950_magnitude = math.log10(population_amounts.iloc[0,1])\n",
    "population_1951_magnitude = math.log10(population_amounts.iloc[1,1])\n",
    "population_1952_magnitude = math.log10(population_amounts.iloc[2,1])\n",
    "population_1953_magnitude = math.log10(population_amounts.iloc[3,1])\n",
    "\n",
    "#print(population_1950_magnitude)\n",
    "#print(population_1951_magnitude)\n",
    "#print(population_1952_magnitude)\n",
    "#print(population_1953_magnitude)"
   ]
  },
  {
   "cell_type": "markdown",
   "metadata": {},
   "source": [
    "But this is tedious and doesn't really take advantage of the fact that we are using a computer.\n",
    "\n",
    "Instead, NumPy provides its own version of `log10` that takes the logarithm of each element of an array.  It takes a single array of numbers as its argument.  It returns an array of the same length, where the first element of the result is the logarithm of the first element of the argument, and so on.\n",
    "\n",
    "**Question:** Use `np.log10` to compute the logarithms of the world population in every year.  Give the result (an array of 66 numbers) the name `population_magnitudes`.  Your code should be very short."
   ]
  },
  {
   "cell_type": "code",
   "execution_count": 24,
   "metadata": {},
   "outputs": [],
   "source": [
    "#population_magnitudes = \n",
    "#population_magnitudes"
   ]
  },
  {
   "cell_type": "markdown",
   "metadata": {},
   "source": [
    "What you just did is called *elementwise* application of `np.log10`, since `np.log10` operates separately on each element of the array that it's called on. Here's a picture of what's going on:"
   ]
  },
  {
   "cell_type": "markdown",
   "metadata": {},
   "source": [
    "The textbook's [section](https://www.inferentialthinking.com/chapters/05/1/Arrays)  on arrays has a useful list of NumPy functions that are designed to work elementwise, like `np.log10`."
   ]
  },
  {
   "cell_type": "markdown",
   "metadata": {},
   "source": [
    "##### Arithmetic\n",
    "Arithmetic also works elementwise on arrays, meaning that if you perform an arithmetic operation (like subtraction, division, etc) on an array, Python will do the operation to every element of the array individually and return an array of all of the results. For example, you can divide all the population numbers by 1 billion to get numbers in billions:"
   ]
  },
  {
   "cell_type": "code",
   "execution_count": 77,
   "metadata": {},
   "outputs": [],
   "source": [
    "pop_amt_billions = population_amounts['Population'] / 1000000000\n",
    "#population_amounts['PopInBillions'] = pop_amt_billions\n",
    "#population_amounts"
   ]
  },
  {
   "cell_type": "markdown",
   "metadata": {},
   "source": [
    "## 2. Creating Tables\n",
    "\n",
    "\n",
    "Arrays are provided by a package called NumPy (pronounced \"NUM-pie\"). The package is called numpy, but it's standard to rename it np for brevity. You can do that with **`import numpy as np`**.\n",
    "\n",
    "Very often in data science, we want to work with many numbers that are evenly spaced within some range. NumPy provides a special function for this called arange. The line of code `np.arange(start, stop, step)` evaluates to an array with all the numbers starting at start and counting up by step, stopping before stop is reached.\n",
    "\n",
    "An array is useful for describing a single attribute of each element in a collection. For example, let's say our collection is all US States. Then an array could describe the land area of each state. \n",
    "\n",
    "Tables extend this idea by containing multiple arrays, each one describing a different attribute for every element of a collection. In this way, tables allow us to not only store data about many entities but to also contain several kinds of data about each entity.\n",
    "\n",
    "We can create tables using **arrays** and **dictionaries**.\n",
    "\n",
    "Below is a simple method for creating a table from some arrays generated using `np.arrange`.\n"
   ]
  },
  {
   "cell_type": "code",
   "execution_count": 110,
   "metadata": {},
   "outputs": [],
   "source": [
    "df1 = pd.DataFrame(np.array([[1, 2, 3], [4, 5, 6], [7, 8, 9]]),\n",
    "                   columns=['a', 'b', 'c'])\n",
    "#df1"
   ]
  },
  {
   "cell_type": "markdown",
   "metadata": {},
   "source": [
    "Next is an example of creating a table using the dictionary method."
   ]
  },
  {
   "cell_type": "code",
   "execution_count": 113,
   "metadata": {},
   "outputs": [],
   "source": [
    "random_data = {'Name': ['Jai', 'Princi', 'Gaurav', 'Anuj'], \n",
    "        'Height': [5.1, 6.2, 5.1, 5.2], \n",
    "        'Qualification': ['Msc', 'MA', 'Msc', 'Msc']} \n",
    "  \n",
    "# Convert the dictionary into DataFrame \n",
    "df2 = pd.DataFrame(random_data) \n",
    "  \n",
    "# Declare a list that is to be converted into a column \n",
    "address = ['Delhi', 'Bangalore', 'Chennai', 'Patna'] \n",
    "  \n",
    "# Using 'Address' as the column name \n",
    "# and equating it to the list \n",
    "df['Address'] = address \n",
    "  \n",
    "# Observe the result \n",
    "#df2 "
   ]
  },
  {
   "cell_type": "markdown",
   "metadata": {},
   "source": [
    "**Question 1:** Create a table using the array method. The column names should be your three favorite fruit, and the values can be any integer values."
   ]
  },
  {
   "cell_type": "code",
   "execution_count": null,
   "metadata": {},
   "outputs": [],
   "source": []
  },
  {
   "cell_type": "markdown",
   "metadata": {},
   "source": [
    "**Question 2:** Create a table using the dictionary method. The column names should be your 5 favorite movies, and the values can be any integer values."
   ]
  },
  {
   "cell_type": "code",
   "execution_count": null,
   "metadata": {},
   "outputs": [],
   "source": []
  },
  {
   "cell_type": "markdown",
   "metadata": {},
   "source": [
    "# 4. Histograms\n",
    "\n",
    "We will now take a look at how to create a histogram.\n",
    "\n",
    "A **histogram** depicts data values by splitting a continuous variable into a number of class intervals, each known as a bin. The simplest and most common type of histogram has bins of equal size. When bin sizes are equal, bins have rectangular bars with heights representing the frequency, which is the number of values in a bin.\n",
    "\n",
    "\n",
    "\n",
    "Let's start by creating a dictionary filled with various subject grades by a student name Billy, and store them in a DataFrame."
   ]
  },
  {
   "cell_type": "code",
   "execution_count": 116,
   "metadata": {},
   "outputs": [],
   "source": [
    "data = { 'Math': [51, 66, 75, 78, 85, 86, 89, 89, 95, 99 ], \n",
    "                'Reading':[54, 60, 73, 75, 80, 84, 91, 93, 95, 99],\n",
    "                'History':[59, 52, 53, 56, 66, 67, 73,77, 88, 96]  }\n",
    "\n",
    "billy_grades = pd.DataFrame(data)\n",
    "\n",
    "#billy_grades"
   ]
  },
  {
   "cell_type": "markdown",
   "metadata": {},
   "source": [
    "Now that we have our table, we will have to decide the width of the bins for our histogram.\n",
    "\n",
    "Since we have a dataset that contains grades from 50 to 100, each bin will have values within the range of the 50-59, 60-69, 70-79, etc.\n",
    "\n",
    "A good way we can do this is by using the numpy's **`arange`** function.\n",
    "\n",
    "Run the cell below to see."
   ]
  },
  {
   "cell_type": "code",
   "execution_count": 115,
   "metadata": {},
   "outputs": [],
   "source": [
    "bins = np.arange(50, 105, 10)\n",
    "#bins"
   ]
  },
  {
   "cell_type": "markdown",
   "metadata": {},
   "source": [
    "Now that we have our bins ready, we can use the following syntac to create a good histogram.\n",
    "\n",
    "Run the cells below"
   ]
  },
  {
   "cell_type": "code",
   "execution_count": 6,
   "metadata": {},
   "outputs": [
    {
     "data": {
      "image/png": "[encoded data removed]",
      "text/plain": [
       "<Figure size 432x288 with 1 Axes>"
      ]
     },
     "metadata": {
      "needs_background": "light"
     },
     "output_type": "display_data"
    }
   ],
   "source": [
    "#plot.hist(billy_grades['Math'], bins, edgecolor = 'black', linewidth = 1.2)\n",
    "#plot.xlabel(\"Grades\")\n",
    "#plot.ylabel(\"Frequency\")\n",
    "#plot.title(\"Math Grades Distribution\")\n",
    "#math = plot.show()\n",
    "#math"
   ]
  },
  {
   "cell_type": "markdown",
   "metadata": {},
   "source": [
    "**Question 1:** Using the table **`billy_grades`**, create a histogram for Billy's **History**  grades and store it in the variable `history`. Be sure to give your histograms a title and label each axis"
   ]
  },
  {
   "cell_type": "code",
   "execution_count": null,
   "metadata": {},
   "outputs": [],
   "source": [
    "#code\n",
    "\n",
    "\n",
    "history "
   ]
  },
  {
   "cell_type": "markdown",
   "metadata": {},
   "source": [
    "**Question 2:** Using the table **`billy_grades`**, create a histogram for Billy's **Reading** grades and store it in the variable `reading`. Be sure to give your histograms a title and label each axis."
   ]
  },
  {
   "cell_type": "code",
   "execution_count": null,
   "metadata": {},
   "outputs": [],
   "source": [
    "#code\n",
    "\n",
    "\n",
    "reading"
   ]
  },
  {
   "cell_type": "markdown",
   "metadata": {},
   "source": [
    "We will now move to some more practical examples."
   ]
  },
  {
   "cell_type": "markdown",
   "metadata": {},
   "source": [
    "# Uber\n",
    "\n",
    "Below we load tables containing 200,000 weekday Uber rides in the Manila, Philippines, and Boston, Massachusetts metropolitan areas from the Uber Movement project. The sourceid and dstid columns contain codes corresponding to start and end locations of each ride. The hod column contains codes corresponding to the hour of the day the ride took place. The ride time column contains the length of the ride, in minutes."
   ]
  },
  {
   "cell_type": "code",
   "execution_count": null,
   "metadata": {},
   "outputs": [],
   "source": [
    "boston = pd.read_csv(\"boston.csv\")\n",
    "manila = pd.read_csv(\"manila.csv\")"
   ]
  },
  {
   "cell_type": "markdown",
   "metadata": {},
   "source": [
    "**Question 1** Produce a histogram of all ride times in Boston using the given bins. \n"
   ]
  },
  {
   "cell_type": "code",
   "execution_count": null,
   "metadata": {},
   "outputs": [],
   "source": [
    "equal_bins = np.arange(0, 120, 5)\n"
   ]
  },
  {
   "cell_type": "markdown",
   "metadata": {},
   "source": [
    "**Question 2.** Now, produce histograms of all ride times in Manila using the given bins.\n"
   ]
  },
  {
   "cell_type": "code",
   "execution_count": null,
   "metadata": {},
   "outputs": [],
   "source": []
  },
  {
   "cell_type": "markdown",
   "metadata": {},
   "source": [
    "**Question 3.** Let's take a closer look at the distribution of ride times in Manila. Assign manila_median_bin to an integer (1, 2, 3, or 4) that corresponds to the bin that contains the median time\n",
    "\n",
    "1: 0-15 minutes\n",
    "\n",
    "2: 15-40 minutes\n",
    "\n",
    "3: 40-60 minutes\n",
    "\n",
    "4: 60-80 minutes\n",
    "\n",
    "Hint: The median of a sorted list has half of the list elements to its left, and half to its right"
   ]
  },
  {
   "cell_type": "code",
   "execution_count": 76,
   "metadata": {},
   "outputs": [],
   "source": [
    "manila_median_bin = ...\n",
    "#manila_median_bin"
   ]
  },
  {
   "cell_type": "markdown",
   "metadata": {},
   "source": [
    "**Question 4.** What is the main difference between the two histograms. What might be causing this? Output your answer below.\n",
    "\n",
    "**Hint:** Try thinking about external factors that may be causing the difference!"
   ]
  },
  {
   "cell_type": "code",
   "execution_count": null,
   "metadata": {},
   "outputs": [],
   "source": [
    "main_difference = \" \""
   ]
  }
 ],
 "metadata": {
  "kernelspec": {
   "display_name": "Python 3.6",
   "language": "python",
   "name": "python36"
  },
  "language_info": {
   "codemirror_mode": {
    "name": "ipython",
    "version": 3
   },
   "file_extension": ".py",
   "mimetype": "text/x-python",
   "name": "python",
   "nbconvert_exporter": "python",
   "pygments_lexer": "ipython3",
   "version": "3.6.6"
  }
 },
 "nbformat": 4,
 "nbformat_minor": 2
}
