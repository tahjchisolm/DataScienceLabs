{
 "cells": [
  {
   "cell_type": "markdown",
   "metadata": {
    "id": "vuo7ze2FTFDM"
   },
   "source": [
    "# Lab 11: A/B Testing and Causality\n",
    "\n",
    "## 1. Ramen Ratings\n",
    "Ramen is delicious, it's a well known fact, and different countries around the world make theirs in unique ways. But is there one country that makes better ramen than another? In this assignment, we will take utilize A/B testing to answer this question"
   ]
  },
  {
   "cell_type": "code",
   "execution_count": 1,
   "metadata": {
    "id": "Dm-sdBfZJmBy"
   },
   "outputs": [],
   "source": [
    "import pandas as pd\n",
    "import numpy as np\n",
    "import matplotlib.pyplot as plt\n",
    " "
   ]
  },
  {
   "cell_type": "markdown",
   "metadata": {
    "id": "8OileLAVUWRi"
   },
   "source": [
    "If we take a look at our data, we see that we have different columns regarding brand, variety, the style of noodle, etc. But for this lab, we'll be focusing on the country and stars. Namely, we'll be only focusing two ramen countries, Malaysia and Taiwan"
   ]
  },
  {
   "cell_type": "code",
   "execution_count": 3,
   "metadata": {
    "colab": {
     "base_uri": "https://localhost:8080/",
     "height": 419
    },
    "id": "RQL7kxg4J1TZ",
    "outputId": "e3df1fbc-064e-40f2-9a3f-cf922efa9a52"
   },
   "outputs": [
    {
     "data": {
      "text/html": [
       "<div>\n",
       "<style scoped>\n",
       "    .dataframe tbody tr th:only-of-type {\n",
       "        vertical-align: middle;\n",
       "    }\n",
       "\n",
       "    .dataframe tbody tr th {\n",
       "        vertical-align: top;\n",
       "    }\n",
       "\n",
       "    .dataframe thead th {\n",
       "        text-align: right;\n",
       "    }\n",
       "</style>\n",
       "<table border=\"1\" class=\"dataframe\">\n",
       "  <thead>\n",
       "    <tr style=\"text-align: right;\">\n",
       "      <th></th>\n",
       "      <th>Review #</th>\n",
       "      <th>Brand</th>\n",
       "      <th>Variety</th>\n",
       "      <th>Style</th>\n",
       "      <th>Country</th>\n",
       "      <th>Stars</th>\n",
       "      <th>Top Ten</th>\n",
       "    </tr>\n",
       "  </thead>\n",
       "  <tbody>\n",
       "    <tr>\n",
       "      <th>0</th>\n",
       "      <td>2580</td>\n",
       "      <td>New Touch</td>\n",
       "      <td>T's Restaurant Tantanmen</td>\n",
       "      <td>Cup</td>\n",
       "      <td>Japan</td>\n",
       "      <td>3.75</td>\n",
       "      <td>NaN</td>\n",
       "    </tr>\n",
       "    <tr>\n",
       "      <th>1</th>\n",
       "      <td>2579</td>\n",
       "      <td>Just Way</td>\n",
       "      <td>Noodles Spicy Hot Sesame Spicy Hot Sesame Guan...</td>\n",
       "      <td>Pack</td>\n",
       "      <td>Taiwan</td>\n",
       "      <td>1</td>\n",
       "      <td>NaN</td>\n",
       "    </tr>\n",
       "    <tr>\n",
       "      <th>2</th>\n",
       "      <td>2578</td>\n",
       "      <td>Nissin</td>\n",
       "      <td>Cup Noodles Chicken Vegetable</td>\n",
       "      <td>Cup</td>\n",
       "      <td>USA</td>\n",
       "      <td>2.25</td>\n",
       "      <td>NaN</td>\n",
       "    </tr>\n",
       "    <tr>\n",
       "      <th>3</th>\n",
       "      <td>2577</td>\n",
       "      <td>Wei Lih</td>\n",
       "      <td>GGE Ramen Snack Tomato Flavor</td>\n",
       "      <td>Pack</td>\n",
       "      <td>Taiwan</td>\n",
       "      <td>2.75</td>\n",
       "      <td>NaN</td>\n",
       "    </tr>\n",
       "    <tr>\n",
       "      <th>4</th>\n",
       "      <td>2576</td>\n",
       "      <td>Ching's Secret</td>\n",
       "      <td>Singapore Curry</td>\n",
       "      <td>Pack</td>\n",
       "      <td>India</td>\n",
       "      <td>3.75</td>\n",
       "      <td>NaN</td>\n",
       "    </tr>\n",
       "    <tr>\n",
       "      <th>...</th>\n",
       "      <td>...</td>\n",
       "      <td>...</td>\n",
       "      <td>...</td>\n",
       "      <td>...</td>\n",
       "      <td>...</td>\n",
       "      <td>...</td>\n",
       "      <td>...</td>\n",
       "    </tr>\n",
       "    <tr>\n",
       "      <th>2575</th>\n",
       "      <td>5</td>\n",
       "      <td>Vifon</td>\n",
       "      <td>Hu Tiu Nam Vang [\"Phnom Penh\" style] Asian Sty...</td>\n",
       "      <td>Bowl</td>\n",
       "      <td>Vietnam</td>\n",
       "      <td>3.5</td>\n",
       "      <td>NaN</td>\n",
       "    </tr>\n",
       "    <tr>\n",
       "      <th>2576</th>\n",
       "      <td>4</td>\n",
       "      <td>Wai Wai</td>\n",
       "      <td>Oriental Style Instant Noodles</td>\n",
       "      <td>Pack</td>\n",
       "      <td>Thailand</td>\n",
       "      <td>1</td>\n",
       "      <td>NaN</td>\n",
       "    </tr>\n",
       "    <tr>\n",
       "      <th>2577</th>\n",
       "      <td>3</td>\n",
       "      <td>Wai Wai</td>\n",
       "      <td>Tom Yum Shrimp</td>\n",
       "      <td>Pack</td>\n",
       "      <td>Thailand</td>\n",
       "      <td>2</td>\n",
       "      <td>NaN</td>\n",
       "    </tr>\n",
       "    <tr>\n",
       "      <th>2578</th>\n",
       "      <td>2</td>\n",
       "      <td>Wai Wai</td>\n",
       "      <td>Tom Yum Chili Flavor</td>\n",
       "      <td>Pack</td>\n",
       "      <td>Thailand</td>\n",
       "      <td>2</td>\n",
       "      <td>NaN</td>\n",
       "    </tr>\n",
       "    <tr>\n",
       "      <th>2579</th>\n",
       "      <td>1</td>\n",
       "      <td>Westbrae</td>\n",
       "      <td>Miso Ramen</td>\n",
       "      <td>Pack</td>\n",
       "      <td>USA</td>\n",
       "      <td>0.5</td>\n",
       "      <td>NaN</td>\n",
       "    </tr>\n",
       "  </tbody>\n",
       "</table>\n",
       "<p>2580 rows × 7 columns</p>\n",
       "</div>"
      ],
      "text/plain": [
       "      Review #           Brand  \\\n",
       "0         2580       New Touch   \n",
       "1         2579        Just Way   \n",
       "2         2578          Nissin   \n",
       "3         2577         Wei Lih   \n",
       "4         2576  Ching's Secret   \n",
       "...        ...             ...   \n",
       "2575         5           Vifon   \n",
       "2576         4         Wai Wai   \n",
       "2577         3         Wai Wai   \n",
       "2578         2         Wai Wai   \n",
       "2579         1        Westbrae   \n",
       "\n",
       "                                                Variety Style   Country Stars  \\\n",
       "0                             T's Restaurant Tantanmen    Cup     Japan  3.75   \n",
       "1     Noodles Spicy Hot Sesame Spicy Hot Sesame Guan...  Pack    Taiwan     1   \n",
       "2                         Cup Noodles Chicken Vegetable   Cup       USA  2.25   \n",
       "3                         GGE Ramen Snack Tomato Flavor  Pack    Taiwan  2.75   \n",
       "4                                       Singapore Curry  Pack     India  3.75   \n",
       "...                                                 ...   ...       ...   ...   \n",
       "2575  Hu Tiu Nam Vang [\"Phnom Penh\" style] Asian Sty...  Bowl   Vietnam   3.5   \n",
       "2576                     Oriental Style Instant Noodles  Pack  Thailand     1   \n",
       "2577                                     Tom Yum Shrimp  Pack  Thailand     2   \n",
       "2578                               Tom Yum Chili Flavor  Pack  Thailand     2   \n",
       "2579                                         Miso Ramen  Pack       USA   0.5   \n",
       "\n",
       "     Top Ten  \n",
       "0        NaN  \n",
       "1        NaN  \n",
       "2        NaN  \n",
       "3        NaN  \n",
       "4        NaN  \n",
       "...      ...  \n",
       "2575     NaN  \n",
       "2576     NaN  \n",
       "2577     NaN  \n",
       "2578     NaN  \n",
       "2579     NaN  \n",
       "\n",
       "[2580 rows x 7 columns]"
      ]
     },
     "execution_count": 3,
     "metadata": {},
     "output_type": "execute_result"
    }
   ],
   "source": [
    "ramen_df = pd.read_csv('ramen-ratings.csv')\n",
    "ramen_df\n"
   ]
  },
  {
   "cell_type": "markdown",
   "metadata": {
    "id": "jxEd3D6tUwTa"
   },
   "source": [
    "**Question 1**: Create a new data frame called `taiwan_and_malaysia` that only consists of data for countries Malaysia and Taiwan, and check the data type of the Stars column"
   ]
  },
  {
   "cell_type": "code",
   "execution_count": 28,
   "metadata": {
    "id": "WiwVqEewLiaY"
   },
   "outputs": [
    {
     "name": "stdout",
     "output_type": "stream",
     "text": [
      "object\n"
     ]
    }
   ],
   "source": [
    "taiwan_and_malaysia = ramen_df[(ramen_df.Country == 'Taiwan') | (ramen_df.Country == 'Malaysia')]\n",
    "\n",
    "\n",
    "# cust_sell = mainDf[mainDf.Type == 'S']\n",
    "# alldata[(alldata[IBRD] !=0) | (alldata[IMF] !=0)]v\n",
    "\n",
    "print(taiwan_and_malaysia['Stars'].dtypes)"
   ]
  },
  {
   "cell_type": "markdown",
   "metadata": {
    "id": "o56e9M-fVFgj"
   },
   "source": [
    "**Question 2:** We see here that the data type of the Stars column is a little unexpected, so we should do three things:\n",
    "\n",
    "\n",
    "\n",
    "1.   Sort the column to find any values that we may not want\n",
    "2.   Remove those values if there are any\n",
    "3.   Update the Sort column to contain float values using **astype()**\n",
    "\n",
    "\n",
    "\n"
   ]
  },
  {
   "cell_type": "code",
   "execution_count": 29,
   "metadata": {
    "id": "SbRL6BigMLw2"
   },
   "outputs": [
    {
     "data": {
      "text/plain": [
       "1       1.00\n",
       "3       2.75\n",
       "28      5.00\n",
       "40      3.25\n",
       "65      5.00\n",
       "        ... \n",
       "2500    3.50\n",
       "2512    4.00\n",
       "2522    3.00\n",
       "2537    0.00\n",
       "2572    3.00\n",
       "Name: Stars, Length: 380, dtype: float64"
      ]
     },
     "execution_count": 29,
     "metadata": {},
     "output_type": "execute_result"
    }
   ],
   "source": [
    "# https://pandas.pydata.org/pandas-docs/stable/reference/api/pandas.DataFrame.replace.html\n",
    "taiwan_and_malaysia = taiwan_and_malaysia.replace('Unrated',0)\n",
    "\n",
    "# https://pandas.pydata.org/pandas-docs/stable/reference/api/pandas.DataFrame.astype.html\n",
    "taiwan_and_malaysia['Stars'].astype(float)"
   ]
  },
  {
   "cell_type": "markdown",
   "metadata": {
    "id": "fr_mHsCTWVWN"
   },
   "source": [
    "Now that we've cleaned up our data set, we can know visualize the distribution of ramen ratings for Taiwan and Malaysia. The code below creates an overlapped histogram of our data, and we can see that the distrubution of data in Taiwan is slightly left than that of Malaysia. This can suggest that ramen and Taiwan is rated lower than ramen in Malaysia."
   ]
  },
  {
   "cell_type": "code",
   "execution_count": 30,
   "metadata": {
    "id": "ZLtTX-KEOeUq"
   },
   "outputs": [
    {
     "data": {
      "text/plain": [
       "<matplotlib.legend.Legend at 0x7fb97ed667f0>"
      ]
     },
     "execution_count": 30,
     "metadata": {},
     "output_type": "execute_result"
    },
    {
     "data": {
      "image/png": "[encoded data removed]",
      "text/plain": [
       "<Figure size 1440x1440 with 1 Axes>"
      ]
     },
     "metadata": {
      "needs_background": "light"
     },
     "output_type": "display_data"
    }
   ],
   "source": [
    "taiwan = []\n",
    "malaysia = []\n",
    "for index , row in taiwan_and_malaysia.iterrows():\n",
    "    if row[\"Country\"] == \"Taiwan\":\n",
    "        taiwan.append(row[\"Stars\"])\n",
    "    else:\n",
    "        malaysia.append(row[\"Stars\"])\n",
    "\n",
    "taiwan = np.array(taiwan)\n",
    "malaysia = np.array(malaysia)\n",
    "\n",
    "plt.figure(figsize=(20,20))\n",
    "plt.hist(taiwan,bins=10,alpha=0.5,label=\"Taiwan\")\n",
    "plt.hist(malaysia,bins=10,alpha=0.5,label=\"Malaysia\")\n",
    "plt.xlabel(\"Ratings\",size=\"14\")\n",
    "plt.ylabel(\"Count\",size=\"14\")\n",
    "plt.title(\"Distribution of Ramen Ratings for Malaysia and Taiwan\")\n",
    "plt.legend(loc=\"upper left\")"
   ]
  },
  {
   "cell_type": "markdown",
   "metadata": {
    "id": "Y9qWqk7mYJEe"
   },
   "source": [
    "In order to do our A/B testing, we'll need to create our null and alternative and hypothesis. For all we know, the results shown in our histogram was simply chance, and does not reflect the population of Taiwanese and Malaysian ramen as whole:\n",
    "\n",
    "**Null Hypothesis:** The distribution of ramen ratings is the same for both Taiwan and Malaysia. The difference in the data given to us is simply chance\n",
    "\n",
    "**Alternative Hypothesis:** In population, ramen in Malaysia is rated higher than ramen Taiwan\n",
    "\n",
    "Now, we can start our testing by only using the Country and Stars column, since that's all we'll be working with"
   ]
  },
  {
   "cell_type": "markdown",
   "metadata": {
    "id": "nwrUyQm_PxRQ"
   },
   "source": [
    "**Question 3:** Create a new dataframe that consists of only the Country and Stars column"
   ]
  },
  {
   "cell_type": "code",
   "execution_count": 35,
   "metadata": {
    "id": "-NuMSXh5ieeK"
   },
   "outputs": [
    {
     "data": {
      "text/html": [
       "<div>\n",
       "<style scoped>\n",
       "    .dataframe tbody tr th:only-of-type {\n",
       "        vertical-align: middle;\n",
       "    }\n",
       "\n",
       "    .dataframe tbody tr th {\n",
       "        vertical-align: top;\n",
       "    }\n",
       "\n",
       "    .dataframe thead th {\n",
       "        text-align: right;\n",
       "    }\n",
       "</style>\n",
       "<table border=\"1\" class=\"dataframe\">\n",
       "  <thead>\n",
       "    <tr style=\"text-align: right;\">\n",
       "      <th></th>\n",
       "      <th>Country</th>\n",
       "      <th>Stars</th>\n",
       "    </tr>\n",
       "  </thead>\n",
       "  <tbody>\n",
       "    <tr>\n",
       "      <th>1</th>\n",
       "      <td>Taiwan</td>\n",
       "      <td>1</td>\n",
       "    </tr>\n",
       "    <tr>\n",
       "      <th>3</th>\n",
       "      <td>Taiwan</td>\n",
       "      <td>2.75</td>\n",
       "    </tr>\n",
       "    <tr>\n",
       "      <th>28</th>\n",
       "      <td>Malaysia</td>\n",
       "      <td>5</td>\n",
       "    </tr>\n",
       "    <tr>\n",
       "      <th>40</th>\n",
       "      <td>Taiwan</td>\n",
       "      <td>3.25</td>\n",
       "    </tr>\n",
       "    <tr>\n",
       "      <th>65</th>\n",
       "      <td>Taiwan</td>\n",
       "      <td>5</td>\n",
       "    </tr>\n",
       "    <tr>\n",
       "      <th>...</th>\n",
       "      <td>...</td>\n",
       "      <td>...</td>\n",
       "    </tr>\n",
       "    <tr>\n",
       "      <th>2500</th>\n",
       "      <td>Taiwan</td>\n",
       "      <td>3.5</td>\n",
       "    </tr>\n",
       "    <tr>\n",
       "      <th>2512</th>\n",
       "      <td>Taiwan</td>\n",
       "      <td>4</td>\n",
       "    </tr>\n",
       "    <tr>\n",
       "      <th>2522</th>\n",
       "      <td>Taiwan</td>\n",
       "      <td>3</td>\n",
       "    </tr>\n",
       "    <tr>\n",
       "      <th>2537</th>\n",
       "      <td>Taiwan</td>\n",
       "      <td>0</td>\n",
       "    </tr>\n",
       "    <tr>\n",
       "      <th>2572</th>\n",
       "      <td>Taiwan</td>\n",
       "      <td>3</td>\n",
       "    </tr>\n",
       "  </tbody>\n",
       "</table>\n",
       "<p>380 rows × 2 columns</p>\n",
       "</div>"
      ],
      "text/plain": [
       "       Country Stars\n",
       "1       Taiwan     1\n",
       "3       Taiwan  2.75\n",
       "28    Malaysia     5\n",
       "40      Taiwan  3.25\n",
       "65      Taiwan     5\n",
       "...        ...   ...\n",
       "2500    Taiwan   3.5\n",
       "2512    Taiwan     4\n",
       "2522    Taiwan     3\n",
       "2537    Taiwan     0\n",
       "2572    Taiwan     3\n",
       "\n",
       "[380 rows x 2 columns]"
      ]
     },
     "execution_count": 35,
     "metadata": {},
     "output_type": "execute_result"
    }
   ],
   "source": [
    "country_and_stars = taiwan_and_malaysia.drop(['Review #', 'Brand', 'Variety', 'Style','Top Ten'], axis=1)\n",
    "country_and_stars"
   ]
  },
  {
   "cell_type": "markdown",
   "metadata": {
    "id": "D7xQjHl7K6Hx"
   },
   "source": [
    "**Question 4:** Complete the function difference_of_rating_average which takes in a dataframe and an optional column name and returns the difference in stars average for Malaysia and Taiwan. Get the difference in average for the dataframe you made in question 3\n",
    "\n",
    "**Note:** the parameter, `column_name=\"Country\"` means that if no column name gets passed in when the function is called, it'll use the Country column by default"
   ]
  },
  {
   "cell_type": "code",
   "execution_count": 46,
   "metadata": {
    "id": "ys-oLksMqqgp"
   },
   "outputs": [],
   "source": [
    "def difference_of_rating_average(dataframe, column_name=\"Country\"):\n",
    "    taiwan = []\n",
    "    malaysia = []\n",
    "    for index , row in dataframe.iterrows():\n",
    "        if row[column_name] == \"Taiwan\":\n",
    "            taiwan.append(row[\"Stars\"])\n",
    "        elif row[column_name] == \"Malaysia\":\n",
    "            malaysia.append(row[\"Stars\"])\n",
    "    taiwan = np.array(taiwan).astype(float)\n",
    "    malaysia = np.array(malaysia).astype(float)\n",
    "    avgtaiwan = sum(taiwan)/len(taiwan)\n",
    "    avgmalaysia = sum(malaysia)/len(malaysia)\n",
    "    diff = avgtaiwan - avgmalaysia\n",
    "    return diff"
   ]
  },
  {
   "cell_type": "markdown",
   "metadata": {
    "id": "J2gHhyUkY_CU"
   },
   "source": [
    "The function written in Question 4 will help us in creating our simulation. The code below creates one simulation by taking in the entire dataframe of taiwan and malaysia made in Question 1, and making a new data frame from just the Country and Stars columns. From there, it creates a copy of that modified dataframe and adds anouther column, Shuffle which consists of the Country column being put in a random order, and calls `difference_of_rating_average` with the column name being the Shuffle column. \n",
    "\n",
    "**You can call the function using the dataframe you made in Question 1**"
   ]
  },
  {
   "cell_type": "code",
   "execution_count": 47,
   "metadata": {
    "id": "Tes6et52tIcx"
   },
   "outputs": [],
   "source": [
    "def one_simulated_difference(table):\n",
    "    table1 = pd.concat([table[\"Country\"],table[\"Stars\"]],axis=1,keys=['Country','Stars'])\n",
    "    shuffled_labels = table1[\"Country\"].sample(frac=1).values\n",
    "\n",
    "    shuffled_table = table1\n",
    "    shuffled_table[\"Shuffle\"] = shuffled_labels\n",
    "    return difference_of_rating_average(table1,\"Shuffle\")"
   ]
  },
  {
   "cell_type": "markdown",
   "metadata": {
    "id": "0wQb4W23Lxso"
   },
   "source": [
    "**Question 5**: Simulate running our single simulation function 100 times, store the results in an array, and plot the results using a histogram"
   ]
  },
  {
   "cell_type": "code",
   "execution_count": 48,
   "metadata": {
    "id": "uTb8mXfZLP23"
   },
   "outputs": [
    {
     "data": {
      "text/plain": [
       "(array([1., 0., 1., 0., 0., 0., 0., 0., 0., 0., 0., 0., 0., 0., 0., 2., 0.,\n",
       "        0., 1., 0., 1., 0., 0., 2., 1., 1., 1., 0., 1., 0., 0., 1., 2., 0.,\n",
       "        3., 2., 0., 2., 0., 0., 2., 1., 1., 1., 1., 5., 0., 0., 2., 2., 1.,\n",
       "        6., 0., 1., 1., 3., 3., 3., 4., 1., 1., 3., 2., 2., 1., 0., 2., 0.,\n",
       "        0., 2., 2., 1., 3., 1., 1., 2., 2., 1., 3., 2., 0., 0., 2., 2., 1.,\n",
       "        0., 1., 0., 0., 2., 0., 0., 0., 0., 0., 0., 0., 0., 0., 1.]),\n",
       " array([-2.95238095e-01, -2.89452839e-01, -2.83667582e-01, -2.77882326e-01,\n",
       "        -2.72097070e-01, -2.66311813e-01, -2.60526557e-01, -2.54741300e-01,\n",
       "        -2.48956044e-01, -2.43170788e-01, -2.37385531e-01, -2.31600275e-01,\n",
       "        -2.25815018e-01, -2.20029762e-01, -2.14244505e-01, -2.08459249e-01,\n",
       "        -2.02673993e-01, -1.96888736e-01, -1.91103480e-01, -1.85318223e-01,\n",
       "        -1.79532967e-01, -1.73747711e-01, -1.67962454e-01, -1.62177198e-01,\n",
       "        -1.56391941e-01, -1.50606685e-01, -1.44821429e-01, -1.39036172e-01,\n",
       "        -1.33250916e-01, -1.27465659e-01, -1.21680403e-01, -1.15895147e-01,\n",
       "        -1.10109890e-01, -1.04324634e-01, -9.85393773e-02, -9.27541209e-02,\n",
       "        -8.69688645e-02, -8.11836081e-02, -7.53983516e-02, -6.96130952e-02,\n",
       "        -6.38278388e-02, -5.80425824e-02, -5.22573260e-02, -4.64720696e-02,\n",
       "        -4.06868132e-02, -3.49015568e-02, -2.91163004e-02, -2.33310440e-02,\n",
       "        -1.75457875e-02, -1.17605311e-02, -5.97527473e-03, -1.90018315e-04,\n",
       "         5.59523810e-03,  1.13804945e-02,  1.71657509e-02,  2.29510073e-02,\n",
       "         2.87362637e-02,  3.45215201e-02,  4.03067766e-02,  4.60920330e-02,\n",
       "         5.18772894e-02,  5.76625458e-02,  6.34478022e-02,  6.92330586e-02,\n",
       "         7.50183150e-02,  8.08035714e-02,  8.65888278e-02,  9.23740842e-02,\n",
       "         9.81593407e-02,  1.03944597e-01,  1.09729853e-01,  1.15515110e-01,\n",
       "         1.21300366e-01,  1.27085623e-01,  1.32870879e-01,  1.38656136e-01,\n",
       "         1.44441392e-01,  1.50226648e-01,  1.56011905e-01,  1.61797161e-01,\n",
       "         1.67582418e-01,  1.73367674e-01,  1.79152930e-01,  1.84938187e-01,\n",
       "         1.90723443e-01,  1.96508700e-01,  2.02293956e-01,  2.08079212e-01,\n",
       "         2.13864469e-01,  2.19649725e-01,  2.25434982e-01,  2.31220238e-01,\n",
       "         2.37005495e-01,  2.42790751e-01,  2.48576007e-01,  2.54361264e-01,\n",
       "         2.60146520e-01,  2.65931777e-01,  2.71717033e-01,  2.77502289e-01,\n",
       "         2.83287546e-01]),\n",
       " <BarContainer object of 100 artists>)"
      ]
     },
     "execution_count": 48,
     "metadata": {},
     "output_type": "execute_result"
    },
    {
     "data": {
      "image/png": "[encoded data removed]",
      "text/plain": [
       "<Figure size 432x288 with 1 Axes>"
      ]
     },
     "metadata": {
      "needs_background": "light"
     },
     "output_type": "display_data"
    }
   ],
   "source": [
    "simm_arr = []\n",
    "for i in range(100):\n",
    "    simm_arr.append(one_simulated_difference(country_and_stars))\n",
    "\n",
    "plt.hist(simm_arr,bins=len(simm_arr),alpha=0.5)\n"
   ]
  },
  {
   "cell_type": "markdown",
   "metadata": {
    "id": "6GFvgpVxNtvX"
   },
   "source": [
    "**Question 6**: Based on the the histogram you made, which hypothesis does the data favor."
   ]
  },
  {
   "cell_type": "markdown",
   "metadata": {
    "id": "XVX5ZHiBbw_C"
   },
   "source": [
    "It would seem like the null hypothesis is favored as 0.0 is the most common and each side(pos and neg) seems relatively balanced in frequency."
   ]
  },
  {
   "cell_type": "markdown",
   "metadata": {
    "id": "FNLC4SilfZaj"
   },
   "source": [
    "## 2. Pokemon Strength"
   ]
  },
  {
   "cell_type": "markdown",
   "metadata": {
    "id": "h0mN9OX1s4-B"
   },
   "source": [
    "Pokemon has been one of the most popular trading card games since it's release in the 1990s. For this section, we'll take a look at pokemon data to see if having a secondary type causes Pokemon to have higher total stats\n"
   ]
  },
  {
   "cell_type": "code",
   "execution_count": 118,
   "metadata": {
    "colab": {
     "base_uri": "https://localhost:8080/",
     "height": 204
    },
    "id": "FdP_lFnBfqJB",
    "outputId": "23331ca0-a8b8-4f9c-aac7-0f3c4b82d7e1"
   },
   "outputs": [
    {
     "data": {
      "text/html": [
       "<div>\n",
       "<style scoped>\n",
       "    .dataframe tbody tr th:only-of-type {\n",
       "        vertical-align: middle;\n",
       "    }\n",
       "\n",
       "    .dataframe tbody tr th {\n",
       "        vertical-align: top;\n",
       "    }\n",
       "\n",
       "    .dataframe thead th {\n",
       "        text-align: right;\n",
       "    }\n",
       "</style>\n",
       "<table border=\"1\" class=\"dataframe\">\n",
       "  <thead>\n",
       "    <tr style=\"text-align: right;\">\n",
       "      <th></th>\n",
       "      <th>#</th>\n",
       "      <th>Name</th>\n",
       "      <th>Type 1</th>\n",
       "      <th>Type 2</th>\n",
       "      <th>Total</th>\n",
       "      <th>HP</th>\n",
       "      <th>Attack</th>\n",
       "      <th>Defense</th>\n",
       "      <th>Sp. Atk</th>\n",
       "      <th>Sp. Def</th>\n",
       "      <th>Speed</th>\n",
       "      <th>Generation</th>\n",
       "      <th>Legendary</th>\n",
       "    </tr>\n",
       "  </thead>\n",
       "  <tbody>\n",
       "    <tr>\n",
       "      <th>0</th>\n",
       "      <td>1</td>\n",
       "      <td>Bulbasaur</td>\n",
       "      <td>Grass</td>\n",
       "      <td>Poison</td>\n",
       "      <td>318</td>\n",
       "      <td>45</td>\n",
       "      <td>49</td>\n",
       "      <td>49</td>\n",
       "      <td>65</td>\n",
       "      <td>65</td>\n",
       "      <td>45</td>\n",
       "      <td>1</td>\n",
       "      <td>False</td>\n",
       "    </tr>\n",
       "    <tr>\n",
       "      <th>1</th>\n",
       "      <td>2</td>\n",
       "      <td>Ivysaur</td>\n",
       "      <td>Grass</td>\n",
       "      <td>Poison</td>\n",
       "      <td>405</td>\n",
       "      <td>60</td>\n",
       "      <td>62</td>\n",
       "      <td>63</td>\n",
       "      <td>80</td>\n",
       "      <td>80</td>\n",
       "      <td>60</td>\n",
       "      <td>1</td>\n",
       "      <td>False</td>\n",
       "    </tr>\n",
       "    <tr>\n",
       "      <th>2</th>\n",
       "      <td>3</td>\n",
       "      <td>Venusaur</td>\n",
       "      <td>Grass</td>\n",
       "      <td>Poison</td>\n",
       "      <td>525</td>\n",
       "      <td>80</td>\n",
       "      <td>82</td>\n",
       "      <td>83</td>\n",
       "      <td>100</td>\n",
       "      <td>100</td>\n",
       "      <td>80</td>\n",
       "      <td>1</td>\n",
       "      <td>False</td>\n",
       "    </tr>\n",
       "    <tr>\n",
       "      <th>3</th>\n",
       "      <td>3</td>\n",
       "      <td>VenusaurMega Venusaur</td>\n",
       "      <td>Grass</td>\n",
       "      <td>Poison</td>\n",
       "      <td>625</td>\n",
       "      <td>80</td>\n",
       "      <td>100</td>\n",
       "      <td>123</td>\n",
       "      <td>122</td>\n",
       "      <td>120</td>\n",
       "      <td>80</td>\n",
       "      <td>1</td>\n",
       "      <td>False</td>\n",
       "    </tr>\n",
       "    <tr>\n",
       "      <th>4</th>\n",
       "      <td>4</td>\n",
       "      <td>Charmander</td>\n",
       "      <td>Fire</td>\n",
       "      <td>NaN</td>\n",
       "      <td>309</td>\n",
       "      <td>39</td>\n",
       "      <td>52</td>\n",
       "      <td>43</td>\n",
       "      <td>60</td>\n",
       "      <td>50</td>\n",
       "      <td>65</td>\n",
       "      <td>1</td>\n",
       "      <td>False</td>\n",
       "    </tr>\n",
       "    <tr>\n",
       "      <th>...</th>\n",
       "      <td>...</td>\n",
       "      <td>...</td>\n",
       "      <td>...</td>\n",
       "      <td>...</td>\n",
       "      <td>...</td>\n",
       "      <td>...</td>\n",
       "      <td>...</td>\n",
       "      <td>...</td>\n",
       "      <td>...</td>\n",
       "      <td>...</td>\n",
       "      <td>...</td>\n",
       "      <td>...</td>\n",
       "      <td>...</td>\n",
       "    </tr>\n",
       "    <tr>\n",
       "      <th>795</th>\n",
       "      <td>719</td>\n",
       "      <td>Diancie</td>\n",
       "      <td>Rock</td>\n",
       "      <td>Fairy</td>\n",
       "      <td>600</td>\n",
       "      <td>50</td>\n",
       "      <td>100</td>\n",
       "      <td>150</td>\n",
       "      <td>100</td>\n",
       "      <td>150</td>\n",
       "      <td>50</td>\n",
       "      <td>6</td>\n",
       "      <td>True</td>\n",
       "    </tr>\n",
       "    <tr>\n",
       "      <th>796</th>\n",
       "      <td>719</td>\n",
       "      <td>DiancieMega Diancie</td>\n",
       "      <td>Rock</td>\n",
       "      <td>Fairy</td>\n",
       "      <td>700</td>\n",
       "      <td>50</td>\n",
       "      <td>160</td>\n",
       "      <td>110</td>\n",
       "      <td>160</td>\n",
       "      <td>110</td>\n",
       "      <td>110</td>\n",
       "      <td>6</td>\n",
       "      <td>True</td>\n",
       "    </tr>\n",
       "    <tr>\n",
       "      <th>797</th>\n",
       "      <td>720</td>\n",
       "      <td>HoopaHoopa Confined</td>\n",
       "      <td>Psychic</td>\n",
       "      <td>Ghost</td>\n",
       "      <td>600</td>\n",
       "      <td>80</td>\n",
       "      <td>110</td>\n",
       "      <td>60</td>\n",
       "      <td>150</td>\n",
       "      <td>130</td>\n",
       "      <td>70</td>\n",
       "      <td>6</td>\n",
       "      <td>True</td>\n",
       "    </tr>\n",
       "    <tr>\n",
       "      <th>798</th>\n",
       "      <td>720</td>\n",
       "      <td>HoopaHoopa Unbound</td>\n",
       "      <td>Psychic</td>\n",
       "      <td>Dark</td>\n",
       "      <td>680</td>\n",
       "      <td>80</td>\n",
       "      <td>160</td>\n",
       "      <td>60</td>\n",
       "      <td>170</td>\n",
       "      <td>130</td>\n",
       "      <td>80</td>\n",
       "      <td>6</td>\n",
       "      <td>True</td>\n",
       "    </tr>\n",
       "    <tr>\n",
       "      <th>799</th>\n",
       "      <td>721</td>\n",
       "      <td>Volcanion</td>\n",
       "      <td>Fire</td>\n",
       "      <td>Water</td>\n",
       "      <td>600</td>\n",
       "      <td>80</td>\n",
       "      <td>110</td>\n",
       "      <td>120</td>\n",
       "      <td>130</td>\n",
       "      <td>90</td>\n",
       "      <td>70</td>\n",
       "      <td>6</td>\n",
       "      <td>True</td>\n",
       "    </tr>\n",
       "  </tbody>\n",
       "</table>\n",
       "<p>800 rows × 13 columns</p>\n",
       "</div>"
      ],
      "text/plain": [
       "       #                   Name   Type 1  Type 2  Total  HP  Attack  Defense  \\\n",
       "0      1              Bulbasaur    Grass  Poison    318  45      49       49   \n",
       "1      2                Ivysaur    Grass  Poison    405  60      62       63   \n",
       "2      3               Venusaur    Grass  Poison    525  80      82       83   \n",
       "3      3  VenusaurMega Venusaur    Grass  Poison    625  80     100      123   \n",
       "4      4             Charmander     Fire     NaN    309  39      52       43   \n",
       "..   ...                    ...      ...     ...    ...  ..     ...      ...   \n",
       "795  719                Diancie     Rock   Fairy    600  50     100      150   \n",
       "796  719    DiancieMega Diancie     Rock   Fairy    700  50     160      110   \n",
       "797  720    HoopaHoopa Confined  Psychic   Ghost    600  80     110       60   \n",
       "798  720     HoopaHoopa Unbound  Psychic    Dark    680  80     160       60   \n",
       "799  721              Volcanion     Fire   Water    600  80     110      120   \n",
       "\n",
       "     Sp. Atk  Sp. Def  Speed  Generation  Legendary  \n",
       "0         65       65     45           1      False  \n",
       "1         80       80     60           1      False  \n",
       "2        100      100     80           1      False  \n",
       "3        122      120     80           1      False  \n",
       "4         60       50     65           1      False  \n",
       "..       ...      ...    ...         ...        ...  \n",
       "795      100      150     50           6       True  \n",
       "796      160      110    110           6       True  \n",
       "797      150      130     70           6       True  \n",
       "798      170      130     80           6       True  \n",
       "799      130       90     70           6       True  \n",
       "\n",
       "[800 rows x 13 columns]"
      ]
     },
     "execution_count": 118,
     "metadata": {},
     "output_type": "execute_result"
    }
   ],
   "source": [
    "pokemon_df = pd.read_csv('Pokemon.csv')\n",
    "pokemon_df"
   ]
  },
  {
   "cell_type": "markdown",
   "metadata": {
    "id": "QJBoZznTvJyZ"
   },
   "source": [
    "**Question 1:** Create a new dataframe called `secondary_types` which consists of the the Type 2 and Total columns in pokemon_df, and update the Type 2 column such that rows with NaN will be set to 0 and rows without NaN will be set to 1. This will help us be able to see which pokemon have secondary types or not"
   ]
  },
  {
   "cell_type": "code",
   "execution_count": 121,
   "metadata": {
    "id": "vAbO_O8mgSL_"
   },
   "outputs": [],
   "source": [
    "secondary_types = pokemon_df.drop(['#', 'Name', 'Type 1', 'HP', 'Attack','Defense','Sp. Atk','Sp. Def','Speed','Generation','Legendary'], axis=1)\n",
    "# df.loc[index,'Name']=='Mr. Elon R. Musk'\n",
    "for index in secondary_types.index:\n",
    "    if (pd.isnull(row['Type 2'])):\n",
    "        secondary_types.loc[index,'Type 2'] = 0\n",
    "    elif (secondary_types.loc[index,'Type 2'] == \"Poison\") | (secondary_types.loc[index,'Type 2'] == \"Bug\") | (secondary_types.loc[index,'Type 2'] == \"Dark\") | (secondary_types.loc[index,'Type 2'] == \"Dragon\") | (secondary_types.loc[index,'Type 2'] == \"Electric\") | (secondary_types.loc[index,'Type 2'] == \"Fairy\") | (secondary_types.loc[index,'Type 2'] == \"Fighting\") | (secondary_types.loc[index,'Type 2'] == \"Fire\") | (secondary_types.loc[index,'Type 2'] == \"Flying\") | (secondary_types.loc[index,'Type 2'] == \"Ghost\") | (secondary_types.loc[index,'Type 2'] == \"Grass\") | (secondary_types.loc[index,'Type 2'] == \"Ground\") | (secondary_types.loc[index,'Type 2'] == \"Ice\") | (secondary_types.loc[index,'Type 2'] == \"Normal\") | (secondary_types.loc[index,'Type 2'] == \"Psychic\") | (secondary_types.loc[index,'Type 2'] == \"Rock\") | (secondary_types.loc[index,'Type 2'] == \"Steel\") | (secondary_types.loc[index,'Type 2'] == \"Water\"):\n",
    "        secondary_types.loc[index,'Type 2'] = 1\n",
    "    else:\n",
    "        secondary_types.loc[index,'Type 2'] = 0"
   ]
  },
  {
   "cell_type": "code",
   "execution_count": 120,
   "metadata": {
    "id": "ztvz3Yw-hw2J"
   },
   "outputs": [
    {
     "data": {
      "text/plain": [
       "<matplotlib.legend.Legend at 0x7fb976873d00>"
      ]
     },
     "execution_count": 120,
     "metadata": {},
     "output_type": "execute_result"
    },
    {
     "data": {
      "image/png": "[encoded data removed]",
      "text/plain": [
       "<Figure size 576x432 with 1 Axes>"
      ]
     },
     "metadata": {
      "needs_background": "light"
     },
     "output_type": "display_data"
    }
   ],
   "source": [
    "has_secondary = []\n",
    "non_secondary = []\n",
    "\n",
    "for index , row in secondary_types.iterrows():\n",
    "    if row[\"Type 2\"] == 0:\n",
    "      non_secondary.append(row[\"Total\"])\n",
    "    else:\n",
    "      has_secondary.append(row[\"Total\"])\n",
    "\n",
    "has_secondary = np.array(has_secondary)\n",
    "non_secondary = np.array(non_secondary)\n",
    "\n",
    "plt.figure(figsize=(8,6))\n",
    "plt.hist(has_secondary,bins=10,alpha=0.5,label=\"Secondary Type\")\n",
    "plt.hist(non_secondary,bins=10,alpha=0.5,label=\"Non Secodary Type\")\n",
    "plt.xlabel(\"Total Stats\",size=\"14\")\n",
    "plt.ylabel(\"Count\",size=\"14\")\n",
    "plt.title(\"Distribution of Secondary and Non-Secondary Typed Pokemon\")\n",
    "plt.legend(loc=\"upper left\")"
   ]
  },
  {
   "cell_type": "markdown",
   "metadata": {
    "id": "wyTl3_BPwIsv"
   },
   "source": [
    "We can see from this data that the non-secondary types are slightly left, which can indicate that not having a secondary type makes pokemon have less stats. But we can't jump to this conclusion without forming our hypotheses and creating a simulation\n",
    "\n",
    "**Question:** What are our null and alternative hypotheses?"
   ]
  },
  {
   "cell_type": "markdown",
   "metadata": {
    "id": "2anzs8zI0At-"
   },
   "source": [
    "**Null Hypothesis:** The distribution of ratings is the same for both pokemon with and without secondary types. The difference in the data given to us is simply chance.\n",
    "\n",
    "**Alternative Hypothesis:** In pokemon, pokemon with secondary types have higher stats than those without."
   ]
  },
  {
   "cell_type": "markdown",
   "metadata": {
    "id": "7wxIBAfvvuLA"
   },
   "source": [
    "**Question 2:** Use the `secondary_types` dataframe you made to get the difference in mean total stats for Pokemon with and without a secondary type"
   ]
  },
  {
   "cell_type": "code",
   "execution_count": 122,
   "metadata": {
    "colab": {
     "base_uri": "https://localhost:8080/",
     "height": 51
    },
    "id": "D9KEdg5glda5",
    "outputId": "e663175b-6b97-410c-b7f3-e1e67db02ee5"
   },
   "outputs": [
    {
     "data": {
      "text/html": [
       "<div>\n",
       "<style scoped>\n",
       "    .dataframe tbody tr th:only-of-type {\n",
       "        vertical-align: middle;\n",
       "    }\n",
       "\n",
       "    .dataframe tbody tr th {\n",
       "        vertical-align: top;\n",
       "    }\n",
       "\n",
       "    .dataframe thead th {\n",
       "        text-align: right;\n",
       "    }\n",
       "</style>\n",
       "<table border=\"1\" class=\"dataframe\">\n",
       "  <thead>\n",
       "    <tr style=\"text-align: right;\">\n",
       "      <th></th>\n",
       "      <th>Total</th>\n",
       "    </tr>\n",
       "    <tr>\n",
       "      <th>Type 2</th>\n",
       "      <th></th>\n",
       "    </tr>\n",
       "  </thead>\n",
       "  <tbody>\n",
       "    <tr>\n",
       "      <th>0</th>\n",
       "      <td>412.015544</td>\n",
       "    </tr>\n",
       "    <tr>\n",
       "      <th>1</th>\n",
       "      <td>456.628019</td>\n",
       "    </tr>\n",
       "  </tbody>\n",
       "</table>\n",
       "</div>"
      ],
      "text/plain": [
       "             Total\n",
       "Type 2            \n",
       "0       412.015544\n",
       "1       456.628019"
      ]
     },
     "execution_count": 122,
     "metadata": {},
     "output_type": "execute_result"
    }
   ],
   "source": [
    "secondary_types.groupby(\"Type 2\").mean()"
   ]
  },
  {
   "cell_type": "markdown",
   "metadata": {
    "id": "vSGRhgLdwHG-"
   },
   "source": [
    "**Question 3:** Complete the function `simulated_difference_poke` which takes in no parameters. It should:\n",
    "\n",
    "\n",
    "1.   Create a copy of table1 with an extra column that holds the values in Type 2 shuffled in random order\n",
    "2.   returns the difference in mean total stats for pokemon with an without a secondary type\n",
    "\n"
   ]
  },
  {
   "cell_type": "code",
   "execution_count": 140,
   "metadata": {
    "id": "pku0GTy0l7Js"
   },
   "outputs": [],
   "source": [
    "def simulated_difference_poke():\n",
    "    table1 = pd.concat([pokemon_df[\"Type 2\"],pokemon_df['Total']], axis = 1, keys = [\"Type 2\",\"Total\"])\n",
    "    table1[\"Type 2\"] = (table1['Type 2'].notnull()).astype('int')\n",
    "\n",
    "    shuffled_labels = table1[\"Type 2\"].sample(frac=1).values\n",
    "    diff = secondary_types.groupby(\"Type 2\").mean()\n",
    "    return diff['Total'][1]-diff['Total'][0]"
   ]
  },
  {
   "cell_type": "code",
   "execution_count": 141,
   "metadata": {
    "id": "cQ4-zxaXm7dN"
   },
   "outputs": [
    {
     "data": {
      "text/plain": [
       "44.612475282220714"
      ]
     },
     "execution_count": 141,
     "metadata": {},
     "output_type": "execute_result"
    }
   ],
   "source": [
    "simulated_difference_poke()"
   ]
  },
  {
   "cell_type": "markdown",
   "metadata": {
    "id": "mOhQswBWxX-J"
   },
   "source": [
    "**Question 4:** Run your `simulated_difference_poke` code 1000 times and display the results using a histogram. If your code times out with 1000, feel free to use a smaller number like 500. You'll get a similar result either way."
   ]
  },
  {
   "cell_type": "code",
   "execution_count": 145,
   "metadata": {
    "id": "0wqNw8LVnjJX"
   },
   "outputs": [
    {
     "data": {
      "text/plain": [
       "(array([   0.,    0.,    0.,    0.,    0., 1000.,    0.,    0.,    0.,\n",
       "           0.]),\n",
       " array([44.11247528, 44.21247528, 44.31247528, 44.41247528, 44.51247528,\n",
       "        44.61247528, 44.71247528, 44.81247528, 44.91247528, 45.01247528,\n",
       "        45.11247528]),\n",
       " <BarContainer object of 10 artists>)"
      ]
     },
     "execution_count": 145,
     "metadata": {},
     "output_type": "execute_result"
    },
    {
     "data": {
      "image/png": "[encoded data removed]",
      "text/plain": [
       "<Figure size 432x288 with 1 Axes>"
      ]
     },
     "metadata": {
      "needs_background": "light"
     },
     "output_type": "display_data"
    }
   ],
   "source": [
    "arr = []\n",
    "for i in range(1000):\n",
    "    arr.append(simulated_difference_poke())\n",
    "plt.hist(arr,bins=10,alpha=0.5)"
   ]
  },
  {
   "cell_type": "markdown",
   "metadata": {
    "id": "_a05LpIlxxzv"
   },
   "source": [
    "**Question 5:** What can you conclude about this data? Is it safe to say that having a secondary type causes pokemon to have higher total stats? Why or why not? If we calculate our P value, what does the result say about our data?"
   ]
  },
  {
   "cell_type": "markdown",
   "metadata": {
    "id": "hJA8cUe60Ei0"
   },
   "source": [
    "To be honest, running a this simulation didn't make much sense to me as the results show. What was the point of the random shuffle array with 1's and 0's? there's not much you can do with that and regardless the mean of both with stay the same."
   ]
  }
 ],
 "metadata": {
  "colab": {
   "name": "A_B_Testing.ipynb",
   "provenance": []
  },
  "kernelspec": {
   "display_name": "Python 3",
   "language": "python",
   "name": "python3"
  },
  "language_info": {
   "codemirror_mode": {
    "name": "ipython",
    "version": 3
   },
   "file_extension": ".py",
   "mimetype": "text/x-python",
   "name": "python",
   "nbconvert_exporter": "python",
   "pygments_lexer": "ipython3",
   "version": "3.8.6"
  }
 },
 "nbformat": 4,
 "nbformat_minor": 1
}
