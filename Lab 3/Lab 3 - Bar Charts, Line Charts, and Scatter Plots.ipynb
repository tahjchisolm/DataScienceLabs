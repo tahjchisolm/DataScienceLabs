{
 "cells": [
  {
   "cell_type": "markdown",
   "metadata": {
    "collapsed": true
   },
   "source": [
    "# Lab 3 - Bar Charts, Line Charts, and Scatter Plots\n",
    "\n",
    "Welcome to Lab 3 !"
   ]
  },
  {
   "cell_type": "markdown",
   "metadata": {},
   "source": [
    "Methods for implementing the **pandas** functions in this lab come from https://pandas.pydata.org/pandas-docs/stable/index.html\n",
    "\n",
    "Methods for implementing the **matplotlib.pyplot** functions in this lab come from https://matplotlib.org/3.2.2/gallery/index.html\n",
    "\n",
    "Helpful reference for slicing and indexing:\n",
    "    \n",
    "    1)https://thispointer.com/python-pandas-select-rows-in-dataframe-by-conditions-on-multiple-columns/#pandas_select_rows_1\n",
    "    \n",
    "    2)https://pandas.pydata.org/pandas-docs/version/0.15.0/indexing.html"
   ]
  },
  {
   "cell_type": "markdown",
   "metadata": {},
   "source": [
    "# Introduction\n",
    "\n",
    "**pandas** is a fast, powerful, flexible and easy to use open source data analysis and manipulation tool, built on top of the Python programming language. \n",
    "\n",
    "**matplotlib** is a comprehensive library for creating static, animated, and interactive visualizations in Python.\n",
    "\n",
    "Up to this point, we have utilized some of **pandas** and **matplotlib's** basic functionality for simple operations. We will now take a look at some more of the methods available to us using **pandas** and **matplotlib.** \n",
    "\n",
    "Areas to cover include:\n",
    "    \n",
    "   1) Grouped and Stacked Bar charts and **`.filter()`**\n",
    "   \n",
    "   2) Line charts, **`.reset_index()`**, and **`.drop()`**\n",
    "   \n",
    "   3) Unemployment and **`.sort_values()`**\n",
    "   \n",
    "   4) Scatter plots, **`.dropna()`**, and **`.isna()`**\n",
    "    \n",
    "Run these cells below to import your modules and get started:"
   ]
  },
  {
   "cell_type": "code",
   "execution_count": 19,
   "metadata": {},
   "outputs": [],
   "source": [
    "import pandas as pd\n",
    "import numpy as np \n",
    "import matplotlib\n",
    "%matplotlib inline\n",
    "import matplotlib.pyplot as plt\n",
    "plt.style.use('fivethirtyeight')"
   ]
  },
  {
   "cell_type": "markdown",
   "metadata": {},
   "source": [
    "# 1. Grouped and Stacked Bar Charts\n",
    "\n",
    "A **bar chart** depicts data values for a categorical variable, using rectangular bars having lengths proportional to category values. The chart is drawn using two axes: a category axis that displays the category names and a value axis that displays the counts.\n",
    "\n",
    "The data set we will be working with contains data from police shootings from 2015 to 2020.\n",
    "\n",
    "**NOTE:** This dataset can be found at: https://www.kaggle.com/ahsen1330/us-police-shootings?select=shootings.csv"
   ]
  },
  {
   "cell_type": "code",
   "execution_count": 1,
   "metadata": {},
   "outputs": [],
   "source": [
    "shootings = pd.read_csv(\"shootings.csv\")\n",
    "\n",
    "print(\"This data set has \",shootings.shape[0], \" rows and\", shootings.shape[1], \"columns.\")\n",
    "\n",
    "print(shootings.dtypes)"
   ]
  },
  {
   "cell_type": "markdown",
   "metadata": {},
   "source": [
    "Let's go ahead and sample the data three times to see what kind of results we get."
   ]
  },
  {
   "cell_type": "code",
   "execution_count": 2,
   "metadata": {},
   "outputs": [],
   "source": [
    "first_sample = shootings.sample(n=3)\n",
    "\n",
    "first_sample"
   ]
  },
  {
   "cell_type": "code",
   "execution_count": 3,
   "metadata": {},
   "outputs": [],
   "source": [
    "second_sample = shootings.sample(n=3)\n",
    "\n",
    "second_sample"
   ]
  },
  {
   "cell_type": "code",
   "execution_count": 4,
   "metadata": {},
   "outputs": [],
   "source": [
    "third_sample = shootings.sample(n=3)\n",
    "\n",
    "third_sample"
   ]
  },
  {
   "cell_type": "markdown",
   "metadata": {},
   "source": [
    "Let's create a bar chart displaying how many people who were killed had signs of mental illness.\n",
    "\n",
    "Let's first start by creating a sub-table containing 'id,' 'name,' 'gender,' 'race,' and 'sign_of_mental_illness.'\n",
    "\n",
    "We can do this using the **`.filter()`** method in the cell below"
   ]
  },
  {
   "cell_type": "code",
   "execution_count": 5,
   "metadata": {
    "scrolled": true
   },
   "outputs": [],
   "source": [
    "sub_table = shootings.filter(items = ['id', 'name','gender','race','signs_of_mental_illness'])\n",
    "\n",
    "print(sub_table.shape)\n",
    "print()\n",
    "print(sub_table.dtypes)\n"
   ]
  },
  {
   "cell_type": "markdown",
   "metadata": {},
   "source": [
    "Now lets create arrays for the signs of mental illness. We will have an array for men  who did and didn't show signs of mental illness, as well as for women containing who did and didn't show signs of mental illness. We can \"filter\" through the dataframe(table) easily using the syntax below.\n",
    "\n",
    "Then, we will create a visual with the **`plt.bar`** fucntion\n",
    "\n",
    "**NOTE:** This link can be used as a reference:  https://python-graph-gallery.com/11-grouped-barplot/"
   ]
  },
  {
   "cell_type": "code",
   "execution_count": null,
   "metadata": {},
   "outputs": [],
   "source": [
    "# This contains an array for all the men that showed signs of mental illness\n",
    "Menbar1 = sub_table[(sub_table.gender == 'M') & (sub_table.signs_of_mental_illness == True)]\n",
    "# This contains an array for all the men that did not show signs of mental illness\n",
    "Menbar2 = sub_table[(sub_table.gender == 'M') & (sub_table.signs_of_mental_illness == False)]\n",
    "# This contains an array for all the women that showed signs of mental illness\n",
    "Womenbar1 =sub_table[(sub_table.gender == 'F') & (sub_table.signs_of_mental_illness == True)]\n",
    "# This contains an array for all the men that did not show signs of mental illness\n",
    "Womenbar2 = sub_table[(sub_table.gender == 'F') & (sub_table.signs_of_mental_illness == False)]\n",
    "\n",
    "# Bar variable for men and women that showed signs of mental illness\n",
    "\n",
    "SOMI = [len(Menbar1), len(Menbar2)] # SOMI - 'Signs of Mental Illness'\n",
    "\n",
    "# Bar varibale for men and women that did not show signs of mental illness\n",
    "\n",
    "NSOMI = [len(Womenbar1), len(Womenbar2)]  # NSOMI - 'No Signs of Mental Illness'\n",
    " \n",
    "\n",
    "bar_width = 0.35\n",
    "\n",
    "# Set position of bar on X axis\n",
    "r1 = np.arange(len(SOMI))  # this variable contains the number of bar groups there will be, which is two\n",
    "r2 = [x + bar_width for x in r1]\n",
    "\n",
    "\n",
    "# Make the plot\n",
    "plt.bar(r1, SOMI, color='blue', width=bar_width, edgecolor='black', linewidth = 1.2, label='Men')\n",
    "plt.bar(r2, NSOMI, color='red', width=bar_width, edgecolor='black',linewidth =1.2, label='Women')\n",
    "\n",
    "# Add xticks on the middle of the group bars\n",
    "plt.xlabel('Groups', fontweight='bold')\n",
    "plt.ylabel('Death Count')\n",
    "plt.xticks([r + 0.15 for r in range(len(SOMI))], ['SOMI','NSOMI'])\n",
    "\n",
    "\n",
    "# Create legend & Show graphic\n",
    "plt.title(\"People who did and did not show signs of mental illness\")\n",
    "plt.legend()\n",
    "plt.show()\n",
    "\n",
    "\n"
   ]
  },
  {
   "cell_type": "markdown",
   "metadata": {},
   "source": [
    "We can also turn the same data into a **stacked bar chart**. "
   ]
  },
  {
   "cell_type": "code",
   "execution_count": null,
   "metadata": {
    "scrolled": true
   },
   "outputs": [],
   "source": [
    "Menbar1 = len(sub_table[(sub_table.gender == 'M') & (sub_table.signs_of_mental_illness == True)])\n",
    "Menbar2 = len(sub_table[(sub_table.gender == 'M') & (sub_table.signs_of_mental_illness == False)])\n",
    "Womenbar1 = len(sub_table[(sub_table.gender == 'F') & (sub_table.signs_of_mental_illness == True)])\n",
    "Womenbar2 = len(sub_table[(sub_table.gender == 'F') & (sub_table.signs_of_mental_illness == False)])\n",
    "\n",
    "            \n",
    "# Bar variable for men and women that showed signs of mental illness\n",
    "\n",
    "SOMI = [Menbar1, Menbar2]\n",
    "\n",
    "# Bar varibale for men and women that did not show signs of mental illness\n",
    "NSOMI = [Womenbar1, Womenbar2]  \n",
    "\n",
    "# Heights of bars1 + bars2\n",
    "bars = np.add(SOMI, NSOMI).tolist()\n",
    "\n",
    "# The position of the bars on the x-axis\n",
    "r = [0,1]\n",
    "\n",
    "bar_names = ['SOMI', 'NSOMI']\n",
    "\n",
    "# Create the womens bars\n",
    "plt.bar(r, NSOMI, color='red', edgecolor='black', width= 0.5, linewidth = 1.5, label = 'Women')\n",
    "# Create mens bars (middle), on top of the firs ones\n",
    "plt.bar(r, SOMI, bottom=NSOMI, color='blue', edgecolor='black', linewidth = 1.5, width=0.5, label = 'Men')\n",
    "\n",
    "# Custom X axis\n",
    "plt.xticks(r, bar_names, fontweight='bold')\n",
    "plt.xlabel(\"group\")\n",
    "plt.ylabel(\"Death Count\")\n",
    " \n",
    "# Show graphic\n",
    "plt.title(\"People who did and did not show signs of mental illness\")\n",
    "plt.legend()\n",
    "#plt.show()\n",
    "\n",
    "\n",
    "\n",
    "\n",
    "\n",
    "\n"
   ]
  },
  {
   "cell_type": "markdown",
   "metadata": {},
   "source": [
    "**Question:** Create a stacked bar chart displaying the total value of people who showed \"Signs of Mental Illness\" (SOMI) mental illness stacked on the number of men who showed SOMI. Do the same for women."
   ]
  },
  {
   "cell_type": "code",
   "execution_count": null,
   "metadata": {},
   "outputs": [],
   "source": []
  },
  {
   "cell_type": "markdown",
   "metadata": {},
   "source": [
    "**Question:** Create a grouped bar chart comparing the number of black men and white men grouped together, along with black women and white women grouped together."
   ]
  },
  {
   "cell_type": "code",
   "execution_count": null,
   "metadata": {},
   "outputs": [],
   "source": []
  },
  {
   "cell_type": "markdown",
   "metadata": {},
   "source": [
    "# 2. Line Charts\n",
    "\n",
    "A **line chart** (or **line graph**) depicts data trends by using straight lines to connect successive data points in a scatter plot. The straight lines show the general direction that data changes over time. Because trends involve time, line charts commonly use a time metric for the horizontal axis. \n",
    "\n",
    "Let's work with data set on unemployment in all counties of America from 1990 - 2016. \n",
    "\n",
    "**NOTE:** This data set can be found at: https://www.kaggle.com/jayrav13/unemployment-by-county-us?select=output.csv"
   ]
  },
  {
   "cell_type": "code",
   "execution_count": null,
   "metadata": {},
   "outputs": [],
   "source": [
    "county_unemployment = pd.read_csv(\"county_unemployment.csv\")\n",
    "print(county_unemployment.shape)"
   ]
  },
  {
   "cell_type": "code",
   "execution_count": 13,
   "metadata": {},
   "outputs": [],
   "source": [
    "county_unemployment.dtypes"
   ]
  },
  {
   "cell_type": "code",
   "execution_count": 12,
   "metadata": {},
   "outputs": [],
   "source": [
    "county_unemployment.sample(n=5)"
   ]
  },
  {
   "cell_type": "markdown",
   "metadata": {},
   "source": [
    "As you can see this is a very large data set. Let's work with a smaller data set with only the counties in the state of Maryland"
   ]
  },
  {
   "cell_type": "code",
   "execution_count": null,
   "metadata": {
    "scrolled": true
   },
   "outputs": [],
   "source": [
    "md_unemployment = county_unemployment[county_unemployment.State == 'Maryland']\n",
    "md_unemployment = md_unemployment.filter(items = ['Year','Month', \"State\", 'County', 'Rate'])\n",
    "print(md_unemployment.shape)\n",
    "print(md_unemployment.sample(n=7))"
   ]
  },
  {
   "cell_type": "markdown",
   "metadata": {},
   "source": [
    "This is much better. Now because each year has different rates of unemployment, let's compute the average rate of unemployment for each year and store them in a dictionary.\n",
    "\n",
    "First, lets sort this dataset by the 'Year' column."
   ]
  },
  {
   "cell_type": "code",
   "execution_count": null,
   "metadata": {},
   "outputs": [],
   "source": [
    "md_unemployment = md_unemployment.sort_values('Year', ascending = True)\n",
    "md_unemployment"
   ]
  },
  {
   "cell_type": "markdown",
   "metadata": {},
   "source": [
    "Referencing the indexes of each row will get difficult if we leave them as they are. Let's reset the indexes to have them start from 0 up.\n",
    "\n",
    "We can do this using the **`reset_index.()`** method in the cell below"
   ]
  },
  {
   "cell_type": "code",
   "execution_count": null,
   "metadata": {},
   "outputs": [],
   "source": [
    "md_unemployment = md_unemployment.reset_index()\n",
    "md_unemployment"
   ]
  },
  {
   "cell_type": "markdown",
   "metadata": {},
   "source": [
    "Finally, let's get rid of the column 'index.'\n",
    "\n",
    "We can do this using the **`drop.()`** method "
   ]
  },
  {
   "cell_type": "code",
   "execution_count": null,
   "metadata": {},
   "outputs": [],
   "source": [
    "md_unemployment = md_unemployment.drop(columns = ['index'])\n",
    "md_unemployment "
   ]
  },
  {
   "cell_type": "markdown",
   "metadata": {},
   "source": [
    "Suppose we are only interested in a certain county in Maryland during a certain year. We can write a statement that creates a subtable based on these certain conditions using the following syntax.\n",
    "\n",
    "Run the cell below."
   ]
  },
  {
   "cell_type": "code",
   "execution_count": null,
   "metadata": {
    "scrolled": false
   },
   "outputs": [],
   "source": [
    "year = 1990\n",
    "pgc_unemployment = md_unemployment[(md_unemployment.County == \"Prince George's County\") & (md_unemployment.Year == year)]\n",
    "pgc_unemployment"
   ]
  },
  {
   "cell_type": "markdown",
   "metadata": {},
   "source": [
    "Finally, we write a function to get the averages for Prince George's County, and display it using a line chart."
   ]
  },
  {
   "cell_type": "code",
   "execution_count": 17,
   "metadata": {
    "scrolled": false
   },
   "outputs": [],
   "source": [
    "def get_averages(averages):\n",
    "    year = 1990\n",
    "    while year != 2017:\n",
    "        pgc_unemployment = md_unemployment[(md_unemployment.County == \"Prince George's County\") & (md_unemployment.Year == year)]\n",
    "        values = pgc_unemployment['Rate'].values # get values in a list\n",
    "        avg_rate = sum(values) / len(values) # calculate the average\n",
    "        averages[year] = avg_rate\n",
    "        year += 1\n",
    "\n",
    "aver_dict = {} # create a dictionary for the averages of MD unemployment over the years\n",
    "get_averages(aver_dict)\n",
    "\n",
    "\n",
    "Year = list(aver_dict.keys()) # get key for the year\n",
    "Unemployment_Rate = list(aver_dict.values()) # get average rate for each year\n",
    "\n",
    "plt.plot(Year, Unemployment_Rate)\n",
    "plt.title(\"Unemployment Rate for Prince George's County Maryland\")\n",
    "plt.xlabel('Year')\n",
    "plt.ylabel(\"Rate\")\n",
    "plt.show()"
   ]
  },
  {
   "cell_type": "markdown",
   "metadata": {},
   "source": [
    "**Question:** Create a line chart that shows the unemployment for **all counties** in Maryland from 1990 to 2016. Use the `md_unemployment` data set."
   ]
  },
  {
   "cell_type": "code",
   "execution_count": null,
   "metadata": {},
   "outputs": [],
   "source": []
  },
  {
   "cell_type": "markdown",
   "metadata": {},
   "source": [
    "**Question:** Compare the line charts of Prince George's County and Maryland to one another. Are there similarities ? Are there differences ?\n",
    "Fill your answer in below."
   ]
  },
  {
   "cell_type": "code",
   "execution_count": null,
   "metadata": {},
   "outputs": [],
   "source": [
    "explanation1 = ''\n",
    "explanation1"
   ]
  },
  {
   "cell_type": "markdown",
   "metadata": {},
   "source": [
    "**Question:** Why do you suppose that the years between 2005 and 2010 saw a significant increase in the unemployment rate? Fill your answer in below."
   ]
  },
  {
   "cell_type": "code",
   "execution_count": 1,
   "metadata": {},
   "outputs": [],
   "source": [
    "explanation2 = ''\n",
    "explanation2"
   ]
  },
  {
   "cell_type": "markdown",
   "metadata": {},
   "source": [
    "# 3. Unemployment\n",
    "\n",
    "The Federal Reserve Bank of St. Louis publishes data about jobs in the US. Below, we've loaded data on unemployment in the United States. There are many ways of defining unemployment, and our dataset includes two notions of the unemployment rate:\n",
    "\n",
    "Among people who are able to work and are looking for a full-time job, the percentage who can't find a job. This is called the Non-Employment Index, or NEI.\n",
    "Among people who are able to work and are looking for a full-time job, the percentage who can't find any job or are only working at a part-time job. The latter group is called \"Part-Time for Economic Reasons\", so the acronym for this index is NEI-PTER. (Economists are great at marketing.)\n",
    "\n",
    "The source data can be found at this link.\n",
    "\n",
    "**Question 1:** The data are in a CSV file called `unemployment.csv`.  Load that file into a table called `unemployment`."
   ]
  },
  {
   "cell_type": "code",
   "execution_count": null,
   "metadata": {},
   "outputs": [],
   "source": [
    "unemployment = \n",
    "unemployment"
   ]
  },
  {
   "cell_type": "markdown",
   "metadata": {},
   "source": [
    "**Question 2:** Sort the data in descending order by NEI, naming the sorted table `by_nei`.  Create another table called `by_nei_pter` that's sorted in descending order by NEI-PTER instead.\n",
    "\n",
    "Reference this article for help: https://cmdlinetips.com/2018/02/how-to-sort-pandas-dataframe-by-columns-and-row/"
   ]
  },
  {
   "cell_type": "code",
   "execution_count": null,
   "metadata": {},
   "outputs": [],
   "source": [
    "by_nei = ...\n",
    "by_nei_pter = ..."
   ]
  },
  {
   "cell_type": "markdown",
   "metadata": {},
   "source": [
    "**Question 3:** Create a table containing the data for the 10 quarters when NEI was greatest.  Call that table `greatest_nei`.\n",
    "\n",
    "`greatest_nei` should be sorted in descending order of `NEI`. Note that each row of `unemployment` represents a quarter."
   ]
  },
  {
   "cell_type": "code",
   "execution_count": null,
   "metadata": {},
   "outputs": [],
   "source": [
    "greatest_nei = ...\n",
    "greatest_nei"
   ]
  },
  {
   "cell_type": "markdown",
   "metadata": {},
   "source": [
    "**Question 4:** It's believed that many people became PTER (recall: \"Part-Time for Economic Reasons\") in the \"Great Recession\" of 2008-2009.  NEI-PTER is the percentage of people who are unemployed (and counted in the NEI) plus the percentage of people who are PTER.  Compute an array containing the percentage of people who were PTER in each quarter.  (The first element of the array should correspond to the first row of `unemployment`, and so on.)\n",
    "\n",
    "*Note:* Use the original `unemployment` table for this."
   ]
  },
  {
   "cell_type": "code",
   "execution_count": null,
   "metadata": {},
   "outputs": [],
   "source": []
  },
  {
   "cell_type": "markdown",
   "metadata": {},
   "source": [
    "**Question 5:** Add `pter` as a column to `unemployment` (named \"PTER\") and sort the resulting table by that column in descending order.  Call the table `by_pter`."
   ]
  },
  {
   "cell_type": "markdown",
   "metadata": {},
   "source": []
  },
  {
   "cell_type": "markdown",
   "metadata": {},
   "source": [
    "**Question 6:** \n",
    "\n",
    "Create a line plot of the PTER over time. \n",
    "\n",
    "To do this, create a new table called `pter_over_time` that adds the `year` array and the `pter` array to the `unemployment` table. Label these columns `Year` and `PTER`. Then, generate a line plot using one of the table methods you've learned in class.\n",
    "\n",
    "Helpful Link: https://pandas.pydata.org/pandas-docs/stable/reference/api/pandas.DataFrame.plot.line.html"
   ]
  },
  {
   "cell_type": "code",
   "execution_count": null,
   "metadata": {},
   "outputs": [],
   "source": []
  },
  {
   "cell_type": "markdown",
   "metadata": {},
   "source": [
    "**Question 7:** Were PTER rates high during the Great Recession (that is to say, were PTER rates particularly high in the years 2008 through 2011)? Assign highPTER to True if you think PTER rates were high in this period, and False if you think they weren't."
   ]
  },
  {
   "cell_type": "code",
   "execution_count": null,
   "metadata": {},
   "outputs": [],
   "source": []
  },
  {
   "cell_type": "markdown",
   "metadata": {},
   "source": [
    "# 4. Scatter Plots \n",
    "\n",
    "A **scatter plot** depicts the relationship between two variables on a rectangular coordinate system, where each axis corresponds to one variable. Scatter plots are used for both quantitative and categorical data.\n",
    "\n",
    "**NOTE:** Helpful rerefence: https://matplotlib.org/3.3.0/api/_as_gen/matplotlib.pyplot.scatter.html\n",
    "\n",
    "We'll use the scatter plot for quantitative data right now.\n",
    "\n",
    "The data set we'll use is the titanic."
   ]
  },
  {
   "cell_type": "code",
   "execution_count": 20,
   "metadata": {},
   "outputs": [],
   "source": [
    "titanic = pd.read_csv(\"titanic.csv\")\n",
    "print(titanic.shape)\n",
    "print(titanic.dtypes)"
   ]
  },
  {
   "cell_type": "markdown",
   "metadata": {},
   "source": [
    "Let's create a scatter plot compare the 'Age' of a passenger to their 'Fare.'\n",
    "\n",
    "We'll begin by creating a subtable with the columns 'Age' and 'Fare.'"
   ]
  },
  {
   "cell_type": "code",
   "execution_count": 7,
   "metadata": {},
   "outputs": [],
   "source": [
    "age_fare_table = titanic.filter(items = ['Age', 'Fare'])\n",
    "\n",
    "age_fare_table"
   ]
  },
  {
   "cell_type": "markdown",
   "metadata": {},
   "source": [
    "Notice that some of the rows have null or **NaN** values. There are two things we can do when dealing with these values:\n",
    "    \n",
    "   1) Replace the NaN values with a value using the **`.isna()`**\n",
    "    \n",
    "   2) Drop the rows that have them using **`.dropna()`**\n",
    "    \n",
    "We'll be doing the latter first."
   ]
  },
  {
   "cell_type": "code",
   "execution_count": 8,
   "metadata": {},
   "outputs": [],
   "source": [
    "age_fare_table = age_fare_table.dropna()\n",
    "age_fare_table"
   ]
  },
  {
   "cell_type": "markdown",
   "metadata": {},
   "source": [
    "Now let's get to scattering. \n",
    "\n",
    "First, store each column in an array.\n",
    "\n",
    "Next, scatter the values"
   ]
  },
  {
   "cell_type": "code",
   "execution_count": 16,
   "metadata": {},
   "outputs": [],
   "source": [
    "age = age_fare_table['Age'].values\n",
    "fare= age_fare_table['Fare'].values\n",
    "\n",
    "plt.scatter(age, fare, c='red', alpha=0.5)\n",
    "plt.title('Age and Fare Correlation')\n",
    "plt.xlabel('Age')\n",
    "plt.ylabel('Fare')\n",
    "plt.show()"
   ]
  },
  {
   "cell_type": "markdown",
   "metadata": {},
   "source": [
    "**Question:** Take a look at the original table columns. Is there a better column we can compare the 'Fare' with ? Is there a better column we can compare the 'Age' with ? Explain why or why not below."
   ]
  },
  {
   "cell_type": "code",
   "execution_count": 21,
   "metadata": {},
   "outputs": [
    {
     "data": {
      "text/plain": [
       "' '"
      ]
     },
     "execution_count": 21,
     "metadata": {},
     "output_type": "execute_result"
    }
   ],
   "source": [
    "explanation3 = \" \"\n",
    "explanation3"
   ]
  },
  {
   "cell_type": "markdown",
   "metadata": {},
   "source": [
    "**Question:** Find the average age of the 'Age' column in the first `age_fare_table` (the one with NaN values). Using the **`.isna()`** function, fill the `age_fare_table` **NaN** values with the average age of the 'Age' column. Finally, created a scatter plot based on filled table."
   ]
  },
  {
   "cell_type": "code",
   "execution_count": null,
   "metadata": {},
   "outputs": [],
   "source": []
  }
 ],
 "metadata": {
  "kernelspec": {
   "display_name": "Python 3.6",
   "language": "python",
   "name": "python36"
  },
  "language_info": {
   "codemirror_mode": {
    "name": "ipython",
    "version": 3
   },
   "file_extension": ".py",
   "mimetype": "text/x-python",
   "name": "python",
   "nbconvert_exporter": "python",
   "pygments_lexer": "ipython3",
   "version": "3.6.6"
  }
 },
 "nbformat": 4,
 "nbformat_minor": 2
}
